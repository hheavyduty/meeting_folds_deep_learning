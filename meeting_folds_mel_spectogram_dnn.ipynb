{
 "cells": [
  {
   "cell_type": "code",
   "execution_count": 1,
   "metadata": {},
   "outputs": [
    {
     "name": "stderr",
     "output_type": "stream",
     "text": [
      "Using TensorFlow backend.\n"
     ]
    }
   ],
   "source": [
    "from os import listdir\n",
    "import os\n",
    "import keras\n",
    "from os.path import isfile, join\n",
    "import librosa\n",
    "import numpy as np\n",
    "from keras.models import Sequential\n",
    "from keras.layers import Dense,Flatten,Conv1D,MaxPooling1D,Dropout\n",
    "import pandas as pd\n",
    "#data_class=np.loadtxt(r\"C:\\Users\\USER\\Desktop\\labels.txt\",delimiter=',')\n",
    "from sklearn.preprocessing import LabelEncoder,OneHotEncoder\n",
    "from keras.utils import np_utils    "
   ]
  },
  {
   "cell_type": "code",
   "execution_count": 2,
   "metadata": {},
   "outputs": [
    {
     "name": "stdout",
     "output_type": "stream",
     "text": [
      "5\n"
     ]
    }
   ],
   "source": [
    "def _extract_segments(clip, filename):\n",
    "    #clip, filename = args\n",
    "\n",
    "    # Due to an off-by-one bug which has not been caught earlier,\n",
    "    # actually both variants (long and short) use the same\n",
    "    # overlap setting (half of window size) - whereas different settings\n",
    "    # were mentioned in the paper.\n",
    "    #\n",
    "    # The code below has been already cleaned up to reflect those changes.\n",
    "    #\n",
    "    # Apart from that, for reproducibility purposes it is required that\n",
    "    # librosa v0.3.1 is used, as further versions drastically change\n",
    "    # the delta computations.\n",
    "    \n",
    "    FRAMES_PER_SEGMENT = 6  # 41 frames ~= 950 ms segment length @ 22050 Hz\n",
    "    WINDOW_SIZE = 512 * 6   # 23 ms per frame @ 22050 Hz\n",
    "    STEP_SIZE = 512 * 6 // 2\n",
    "    BANDS = 40\n",
    "    #sum=np.zeros(60,41)\n",
    "    \n",
    "    s = 0\n",
    "    segments = []\n",
    "    logspec=[]\n",
    "    logspec=np.array(logspec)\n",
    "\n",
    "    normalization_factor = 1 / np.max(np.abs(clip)) \n",
    "    clip = clip * normalization_factor\n",
    "\n",
    "    while len(clip[s * STEP_SIZE:s * STEP_SIZE + WINDOW_SIZE]) == WINDOW_SIZE:\n",
    "        signal = clip[s * STEP_SIZE:s * STEP_SIZE + WINDOW_SIZE]\n",
    "\n",
    "        melspec = librosa.feature.melspectrogram(signal, sr=22050, n_fft=1024, hop_length=512, n_mels=BANDS)\n",
    "        #logspec = librosa.logamplitude(melspec)\n",
    "        #melspec = melspec.T.flatten()[:, np.newaxis].T\n",
    "        #melspec = pd.DataFrame(data=melspec, dtype='float32', index=[0], columns=list('logspec_b{}_f{}'.format(i % BANDS, i / BANDS) for i in range(np.shape(logspec)[1])))\n",
    "\n",
    "        #if np.mean(logspec.as_matrix()) > -70.0:   # drop silent frames\n",
    "        #segment_meta = pd.DataFrame({'filename': filename,\n",
    "                                        #'s_begin': s * STEP_SIZE, 's_end': s * STEP_SIZE + WINDOW_SIZE,}, index=[0])\n",
    "        #segments.append(pd.concat((segment_meta, logspec), axis=1))\n",
    "        segments.append(melspec)\n",
    "        s = s + 1\n",
    "    #for i in range(s-1):\n",
    "        #sum=sum+segments(i,:,:)\n",
    "    #segments=sum/s-1\n",
    "    segments=np.mean(segments,axis=0) \n",
    "    segments=segments.flatten()\n",
    "    #segments = pd.concat(segments, ignore_index=True)\n",
    "    #libc.malloc_trim(0)\n",
    "    return segments\n",
    "print(5)"
   ]
  },
  {
   "cell_type": "code",
   "execution_count": 3,
   "metadata": {},
   "outputs": [
    {
     "data": {
      "text/plain": [
       "(40, 280)"
      ]
     },
     "execution_count": 3,
     "metadata": {},
     "output_type": "execute_result"
    }
   ],
   "source": [
    "dataclass=[]\n",
    "dataclass1=[]\n",
    "dataclass2=[]\n",
    "dataclass3=[]\n",
    "dataclass4=[]\n",
    "dataclass5=[]\n",
    "fold1=[]\n",
    "fold2=[]\n",
    "fold3=[]\n",
    "fold4=[]\n",
    "fold5=[]\n",
    "onlyfiles1 = [f for f in listdir(r\"C:\\internship\\meeting-folds\\ap\")if isfile(join(r\"C:\\internship\\meeting-folds\\ap\", f))]\n",
    "raw_sounds1 = []\n",
    "for i in range(len(onlyfiles1)):\n",
    "    X1,sr1=librosa.load( os.path.join(r\"C:\\internship\\meeting-folds\\ap\",onlyfiles1[i]))\n",
    "    me1=_extract_segments(X1,onlyfiles1[i])\n",
    "    #me1 = np.mean(librosa.feature.melspectrogram(y=X1, sr=sr1, n_mels=40).T,axis=0)\n",
    "    raw_sounds1.append(me1)\n",
    "    dataclass.append(1)\n",
    "raw_sounds1=np.array(raw_sounds1)\n",
    "#print(onlyfiles1) \n",
    "#onlyfiles1[1][2]\n",
    "#print(len(raw_sounds1[0])) \n",
    "for i in range(len(onlyfiles1)):\n",
    "    if(onlyfiles1[i][3]=='1'):\n",
    "        fold1.append(raw_sounds1[i])\n",
    "        dataclass1.append(1)\n",
    "    elif(onlyfiles1[i][3]=='2'):\n",
    "        fold2.append(raw_sounds1[i])\n",
    "        dataclass2.append(1)\n",
    "    elif(onlyfiles1[i][3]=='3'):\n",
    "        fold3.append(raw_sounds1[i])\n",
    "        dataclass3.append(1)\n",
    "    elif(onlyfiles1[i][3]=='4'):\n",
    "        fold4.append(raw_sounds1[i])\n",
    "        dataclass4.append(1)\n",
    "    elif(onlyfiles1[i][3]=='5'):\n",
    "        fold5.append(raw_sounds1[i])\n",
    "        dataclass5.append(1)\n",
    "\n",
    "#print(len(dataclass1))        \n",
    "#fold2=np.array(fold2)\n",
    "#print(fold2.shape)\n",
    "#fold3=np.array(fold3)\n",
    "#print(fold3.shape)\n",
    "raw_sounds1.shape                            \n",
    "    "
   ]
  },
  {
   "cell_type": "code",
   "execution_count": 4,
   "metadata": {},
   "outputs": [
    {
     "data": {
      "text/plain": [
       "(40, 280)"
      ]
     },
     "execution_count": 4,
     "metadata": {},
     "output_type": "execute_result"
    }
   ],
   "source": [
    "onlyfiles2 = [f for f in listdir(r\"C:\\internship\\meeting-folds\\cl\") if isfile(join(r\"C:\\internship\\meeting-folds\\cl\", f))]\n",
    "raw_sounds2 = []\n",
    "for i in range(len(onlyfiles2)):\n",
    "    X2,sr2=librosa.load( os.path.join(r\"C:\\internship\\meeting-folds\\cl\",onlyfiles2[i]))\n",
    "    me2=_extract_segments(X2,onlyfiles2[i])\n",
    "    #me2 = np.mean(librosa.feature.melspectrogram(y=X2, sr=sr2, n_mels=40).T,axis=0)\n",
    "    raw_sounds2.append(me2)\n",
    "    dataclass.append(2)\n",
    "raw_sounds2=np.array(raw_sounds2)\n",
    "for i in range(len(onlyfiles2)):\n",
    "    if(onlyfiles2[i][3]=='1'):\n",
    "        fold1.append(raw_sounds2[i])\n",
    "        dataclass1.append(2)\n",
    "    elif(onlyfiles2[i][3]=='2'):\n",
    "        fold2.append(raw_sounds2[i])\n",
    "        dataclass2.append(2)\n",
    "    elif(onlyfiles2[i][3]=='3'):\n",
    "        fold3.append(raw_sounds2[i])\n",
    "        dataclass3.append(2)\n",
    "    elif(onlyfiles2[i][3]=='4'):\n",
    "        fold4.append(raw_sounds2[i])\n",
    "        dataclass4.append(2)\n",
    "    elif(onlyfiles2[i][3]=='5'):\n",
    "        fold5.append(raw_sounds2[i])\n",
    "        dataclass5.append(2)\n",
    "\n",
    "#print(len(dataclass1))\n",
    "raw_sounds2.shape        \n",
    "    \n",
    "\n"
   ]
  },
  {
   "cell_type": "code",
   "execution_count": 5,
   "metadata": {},
   "outputs": [
    {
     "data": {
      "text/plain": [
       "(40, 280)"
      ]
     },
     "execution_count": 5,
     "metadata": {},
     "output_type": "execute_result"
    }
   ],
   "source": [
    "onlyfiles3 = [f for f in listdir(r\"C:\\internship\\meeting-folds\\cm\") if isfile(join(r\"C:\\internship\\meeting-folds\\cm\", f))]\n",
    "raw_sounds3= []\n",
    "for i in range(len(onlyfiles3)):\n",
    "    X3,sr3=librosa.load( os.path.join(r\"C:\\internship\\meeting-folds\\cm\",onlyfiles3[i]))\n",
    "    me3=_extract_segments(X3,onlyfiles3[i])\n",
    "    #me3 = np.mean(librosa.feature.melspectrogram(y=X3, sr=sr3, n_mels=40).T,axis=0)\n",
    "    raw_sounds3.append(me3)\n",
    "    dataclass.append(3)\n",
    "raw_sounds3=np.array(raw_sounds3)\n",
    "for i in range(len(onlyfiles3)):\n",
    "    if(onlyfiles3[i][3]=='1'):\n",
    "        fold1.append(raw_sounds3[i])\n",
    "        dataclass1.append(3)\n",
    "    elif(onlyfiles3[i][3]=='2'):\n",
    "        fold2.append(raw_sounds3[i])\n",
    "        dataclass2.append(3)\n",
    "    elif(onlyfiles3[i][3]=='3'):\n",
    "        fold3.append(raw_sounds3[i])\n",
    "        dataclass3.append(3)\n",
    "    elif(onlyfiles3[i][3]=='4'):\n",
    "        fold4.append(raw_sounds3[i])\n",
    "        dataclass4.append(3)\n",
    "    elif(onlyfiles3[i][3]=='5'):\n",
    "        fold5.append(raw_sounds3[i])\n",
    "        dataclass5.append(3)\n",
    "raw_sounds3.shape "
   ]
  },
  {
   "cell_type": "code",
   "execution_count": 6,
   "metadata": {},
   "outputs": [
    {
     "data": {
      "text/plain": [
       "(40, 280)"
      ]
     },
     "execution_count": 6,
     "metadata": {},
     "output_type": "execute_result"
    }
   ],
   "source": [
    "onlyfiles4 = [f for f in listdir(r\"C:\\internship\\meeting-folds\\co\") if isfile(join(r\"C:\\internship\\meeting-folds\\co\", f))]\n",
    "raw_sounds4= []\n",
    "for i in range(len(onlyfiles4)):\n",
    "    X4,sr4=librosa.load( os.path.join(r\"C:\\internship\\meeting-folds\\co\",onlyfiles4[i]))\n",
    "    me4=_extract_segments(X4,onlyfiles4[i])\n",
    "    #me4 = np.mean(librosa.feature.melspectrogram(y=X4, sr=sr4, n_mels=40).T,axis=0)\n",
    "    raw_sounds4.append(me4)\n",
    "    dataclass.append(4)\n",
    "raw_sounds4=np.array(raw_sounds4)\n",
    "for i in range(len(onlyfiles4)):\n",
    "    if(onlyfiles4[i][3]=='1'):\n",
    "        fold1.append(raw_sounds4[i])\n",
    "        dataclass1.append(4)\n",
    "    elif(onlyfiles4[i][3]=='2'):\n",
    "        fold2.append(raw_sounds4[i])\n",
    "        dataclass2.append(4)\n",
    "    elif(onlyfiles4[i][3]=='3'):\n",
    "        fold3.append(raw_sounds4[i])\n",
    "        dataclass3.append(4)\n",
    "    elif(onlyfiles4[i][3]=='4'):\n",
    "        fold4.append(raw_sounds4[i])\n",
    "        dataclass4.append(4)\n",
    "    elif(onlyfiles4[i][3]=='5'):\n",
    "        fold5.append(raw_sounds4[i])\n",
    "        dataclass5.append(4)\n",
    "#print(len(dataclass1))\n",
    "raw_sounds4.shape \n"
   ]
  },
  {
   "cell_type": "code",
   "execution_count": 7,
   "metadata": {},
   "outputs": [
    {
     "data": {
      "text/plain": [
       "(40, 280)"
      ]
     },
     "execution_count": 7,
     "metadata": {},
     "output_type": "execute_result"
    }
   ],
   "source": [
    "onlyfiles5 = [f for f in listdir(r\"C:\\internship\\meeting-folds\\ds\") if isfile(join(r\"C:\\internship\\meeting-folds\\ds\", f))]\n",
    "raw_sounds5= []\n",
    "for i in range(len(onlyfiles5)):\n",
    "    X5,sr5=librosa.load( os.path.join(r\"C:\\internship\\meeting-folds\\ds\",onlyfiles5[i]))\n",
    "    me5=_extract_segments(X5,onlyfiles5[i])\n",
    "    #me5 = np.mean(librosa.feature.melspectrogram(y=X5, sr=sr5, n_mels=40).T,axis=0)\n",
    "    raw_sounds5.append(me5)\n",
    "    dataclass.append(5)\n",
    "raw_sounds5=np.array(raw_sounds5)\n",
    "for i in range(len(onlyfiles3)):\n",
    "    if(onlyfiles5[i][3]=='1'):\n",
    "        fold1.append(raw_sounds5[i])\n",
    "        dataclass1.append(5)\n",
    "    elif(onlyfiles5[i][3]=='2'):\n",
    "        fold2.append(raw_sounds5[i])\n",
    "        dataclass2.append(5)\n",
    "    elif(onlyfiles5[i][3]=='3'):\n",
    "        fold3.append(raw_sounds5[i])\n",
    "        dataclass3.append(5)\n",
    "    elif(onlyfiles5[i][3]=='4'):\n",
    "        fold4.append(raw_sounds5[i])\n",
    "        dataclass4.append(5)\n",
    "    elif(onlyfiles5[i][3]=='5'):\n",
    "        fold5.append(raw_sounds5[i])\n",
    "        dataclass5.append(5)\n",
    "raw_sounds5.shape \n"
   ]
  },
  {
   "cell_type": "code",
   "execution_count": 8,
   "metadata": {},
   "outputs": [
    {
     "data": {
      "text/plain": [
       "(40, 280)"
      ]
     },
     "execution_count": 8,
     "metadata": {},
     "output_type": "execute_result"
    }
   ],
   "source": [
    "onlyfiles6 = [f for f in listdir(r\"C:\\internship\\meeting-folds\\fst\") if isfile(join(r\"C:\\internship\\meeting-folds\\fst\", f))]\n",
    "raw_sounds6= []\n",
    "for i in range(len(onlyfiles6)):\n",
    "    X6,sr6=librosa.load( os.path.join(r\"C:\\internship\\meeting-folds\\fst\",onlyfiles6[i]))\n",
    "    me6=_extract_segments(X6,onlyfiles6[i])\n",
    "    #me6 = np.mean(librosa.feature.melspectrogram(y=X6, sr=sr6, n_mels=40).T,axis=0)\n",
    "    raw_sounds6.append(me6)\n",
    "    dataclass.append(6)\n",
    "raw_sounds6=np.array(raw_sounds6)\n",
    "for i in range(len(onlyfiles6)):\n",
    "    if(onlyfiles6[i][3]=='1'):\n",
    "        fold1.append(raw_sounds6[i])\n",
    "        dataclass1.append(6)\n",
    "    elif(onlyfiles6[i][3]=='2'):\n",
    "        fold2.append(raw_sounds6[i])\n",
    "        dataclass2.append(6)\n",
    "    elif(onlyfiles6[i][3]=='3'):\n",
    "        fold3.append(raw_sounds6[i])\n",
    "        dataclass3.append(6)\n",
    "    elif(onlyfiles6[i][3]=='4'):\n",
    "        fold4.append(raw_sounds6[i])\n",
    "        dataclass4.append(6)\n",
    "    elif(onlyfiles6[i][3]=='5'):\n",
    "        fold5.append(raw_sounds6[i])\n",
    "        dataclass5.append(6)\n",
    "\n",
    "raw_sounds6.shape \n"
   ]
  },
  {
   "cell_type": "code",
   "execution_count": 9,
   "metadata": {},
   "outputs": [
    {
     "data": {
      "text/plain": [
       "(40, 280)"
      ]
     },
     "execution_count": 9,
     "metadata": {},
     "output_type": "execute_result"
    }
   ],
   "source": [
    "onlyfiles7 = [f for f in listdir(r\"C:\\internship\\meeting-folds\\kj\") if isfile(join(r\"C:\\internship\\meeting-folds\\kj\", f))]\n",
    "raw_sounds7= []\n",
    "for i in range(len(onlyfiles7)):\n",
    "    X7,sr7=librosa.load( os.path.join(r\"C:\\internship\\meeting-folds\\kj\",onlyfiles7[i]))\n",
    "    me7=_extract_segments(X7,onlyfiles7[i])\n",
    "    #me7 = np.mean(librosa.feature.mfcc(y=X7, sr=sr7, n_mfcc=40).T,axis=0)\n",
    "    raw_sounds7.append(me7)\n",
    "    dataclass.append(7)\n",
    "raw_sounds7=np.array(raw_sounds7)\n",
    "for i in range(len(onlyfiles7)):\n",
    "    if(onlyfiles7[i][3]=='1'):\n",
    "        fold1.append(raw_sounds7[i])\n",
    "        dataclass1.append(7)\n",
    "    elif(onlyfiles7[i][3]=='2'):\n",
    "        fold2.append(raw_sounds7[i])\n",
    "        dataclass2.append(7)\n",
    "    elif(onlyfiles7[i][3]=='3'):\n",
    "        fold3.append(raw_sounds7[i])\n",
    "        dataclass3.append(7)\n",
    "    elif(onlyfiles7[i][3]=='4'):\n",
    "        fold4.append(raw_sounds7[i])\n",
    "        dataclass4.append(7)\n",
    "    elif(onlyfiles7[i][3]=='5'):\n",
    "        fold5.append(raw_sounds7[i])\n",
    "        dataclass5.append(7)\n",
    "raw_sounds7.shape \n"
   ]
  },
  {
   "cell_type": "code",
   "execution_count": 10,
   "metadata": {},
   "outputs": [
    {
     "data": {
      "text/plain": [
       "(40, 280)"
      ]
     },
     "execution_count": 10,
     "metadata": {},
     "output_type": "execute_result"
    }
   ],
   "source": [
    "onlyfiles8 = [f for f in listdir(r\"C:\\internship\\meeting-folds\\kn\") if isfile(join(r\"C:\\internship\\meeting-folds\\kn\", f))]\n",
    "raw_sounds8= []\n",
    "for i in range(len(onlyfiles8)):\n",
    "    X8,sr8=librosa.load( os.path.join(r\"C:\\internship\\meeting-folds\\kn\",onlyfiles8[i]))\n",
    "    me8=_extract_segments(X8,onlyfiles8[i])\n",
    "    #me8 = np.mean(librosa.feature.melspectrogram(y=X8, sr=sr8, n_mels=40).T,axis=0)\n",
    "    raw_sounds8.append(me8)\n",
    "    dataclass.append(8)\n",
    "raw_sounds8=np.array(raw_sounds8)\n",
    "for i in range(len(onlyfiles8)):\n",
    "    if(onlyfiles8[i][3]=='1'):\n",
    "        fold1.append(raw_sounds8[i])\n",
    "        dataclass1.append(8)\n",
    "    elif(onlyfiles8[i][3]=='2'):\n",
    "        fold2.append(raw_sounds8[i])\n",
    "        dataclass2.append(8)\n",
    "    elif(onlyfiles8[i][3]=='3'):\n",
    "        fold3.append(raw_sounds8[i])\n",
    "        dataclass3.append(8)\n",
    "    elif(onlyfiles8[i][3]=='4'):\n",
    "        fold4.append(raw_sounds8[i])\n",
    "        dataclass4.append(8)\n",
    "    elif(onlyfiles8[i][3]=='5'):\n",
    "        fold5.append(raw_sounds8[i])\n",
    "        dataclass5.append(8)\n",
    "raw_sounds8.shape \n"
   ]
  },
  {
   "cell_type": "code",
   "execution_count": 11,
   "metadata": {},
   "outputs": [
    {
     "data": {
      "text/plain": [
       "(40, 280)"
      ]
     },
     "execution_count": 11,
     "metadata": {},
     "output_type": "execute_result"
    }
   ],
   "source": [
    "onlyfiles9 = [f for f in listdir(r\"C:\\internship\\meeting-folds\\kt\") if isfile(join(r\"C:\\internship\\meeting-folds\\kt\", f))]\n",
    "raw_sounds9= []\n",
    "for i in range(len(onlyfiles9)):\n",
    "    X9,sr9=librosa.load( os.path.join(r\"C:\\internship\\meeting-folds\\kt\",onlyfiles9[i]))\n",
    "    me9=_extract_segments(X9,onlyfiles9[i])\n",
    "    #me9 = np.mean(librosa.feature.mfcc(y=X9, sr=sr9, n_mfcc=40).T,axis=0)\n",
    "    raw_sounds9.append(me9)\n",
    "    dataclass.append(9)\n",
    "raw_sounds9=np.array(raw_sounds9)\n",
    "for i in range(len(onlyfiles9)):\n",
    "    if(onlyfiles9[i][3]=='1'):\n",
    "        fold1.append(raw_sounds9[i])\n",
    "        dataclass1.append(9)\n",
    "    elif(onlyfiles9[i][3]=='2'):\n",
    "        fold2.append(raw_sounds9[i])\n",
    "        dataclass2.append(9)\n",
    "    elif(onlyfiles9[i][3]=='3'):\n",
    "        fold3.append(raw_sounds9[i])\n",
    "        dataclass3.append(9)\n",
    "    elif(onlyfiles9[i][3]=='4'):\n",
    "        fold4.append(raw_sounds9[i])\n",
    "        dataclass4.append(9)\n",
    "    elif(onlyfiles9[i][3]=='5'):\n",
    "        fold5.append(raw_sounds9[i])\n",
    "        dataclass5.append(9)\n",
    "\n",
    "raw_sounds9.shape "
   ]
  },
  {
   "cell_type": "code",
   "execution_count": 12,
   "metadata": {},
   "outputs": [
    {
     "data": {
      "text/plain": [
       "(40, 280)"
      ]
     },
     "execution_count": 12,
     "metadata": {},
     "output_type": "execute_result"
    }
   ],
   "source": [
    "onlyfiles10 = [f for f in listdir(r\"C:\\internship\\meeting-folds\\la\") if isfile(join(r\"C:\\internship\\meeting-folds\\la\", f))]\n",
    "raw_sounds10= []\n",
    "for i in range(len(onlyfiles10)):\n",
    "    X10,sr10=librosa.load(os.path.join(r\"C:\\internship\\meeting-folds\\la\",onlyfiles10[i]))\n",
    "    me10=_extract_segments(X10,onlyfiles10[i])\n",
    "    #me10 = np.mean(librosa.feature.melspectrogram(y=X10, sr=sr10, n_mels=40).T,axis=0)\n",
    "    raw_sounds10.append(me10)\n",
    "    dataclass.append(10)\n",
    "               \n",
    "raw_sounds10=np.array(raw_sounds10)\n",
    "for i in range(len(onlyfiles10)):\n",
    "    if(onlyfiles10[i][3]=='1'):\n",
    "        fold1.append(raw_sounds10[i])\n",
    "        dataclass1.append(10)\n",
    "    elif(onlyfiles10[i][3]=='2'):\n",
    "        fold2.append(raw_sounds10[i])\n",
    "        dataclass2.append(10)\n",
    "    elif(onlyfiles10[i][3]=='3'):\n",
    "        fold3.append(raw_sounds10[i])\n",
    "        dataclass3.append(10)\n",
    "    elif(onlyfiles10[i][3]=='4'):\n",
    "        fold4.append(raw_sounds10[i])\n",
    "        dataclass4.append(10)\n",
    "    elif(onlyfiles10[i][3]=='5'):\n",
    "        fold5.append(raw_sounds10[i])\n",
    "        dataclass5.append(10)\n",
    "        \n",
    "raw_sounds10.shape \n"
   ]
  },
  {
   "cell_type": "code",
   "execution_count": 13,
   "metadata": {},
   "outputs": [
    {
     "data": {
      "text/plain": [
       "(40, 280)"
      ]
     },
     "execution_count": 13,
     "metadata": {},
     "output_type": "execute_result"
    }
   ],
   "source": [
    "onlyfiles11 = [f for f in listdir(r\"C:\\internship\\meeting-folds\\pr\") if isfile(join(r\"C:\\internship\\meeting-folds\\pr\", f))]\n",
    "raw_sounds11= []\n",
    "for i in range(len(onlyfiles11)):\n",
    "    X11,sr11=librosa.load( os.path.join(r\"C:\\internship\\meeting-folds\\pr\",onlyfiles11[i]))\n",
    "    me11=_extract_segments(X11,onlyfiles11[i])\n",
    "    #me11 = np.mean(librosa.feature.melspectrogram(y=X11, sr=sr11, n_mels=40).T,axis=0)\n",
    "    raw_sounds11.append(me11)\n",
    "    dataclass.append(11)\n",
    "raw_sounds11=np.array(raw_sounds11)\n",
    "for i in range(len(onlyfiles11)):\n",
    "    if(onlyfiles11[i][3]=='1'):\n",
    "        fold1.append(raw_sounds11[i])\n",
    "        dataclass1.append(11)\n",
    "    elif(onlyfiles11[i][3]=='2'):\n",
    "        fold2.append(raw_sounds11[i])\n",
    "        dataclass2.append(11)\n",
    "    elif(onlyfiles11[i][3]=='3'):\n",
    "        fold3.append(raw_sounds11[i])\n",
    "        dataclass3.append(11)\n",
    "    elif(onlyfiles11[i][3]=='4'):\n",
    "        fold4.append(raw_sounds11[i])\n",
    "        dataclass4.append(11)\n",
    "    elif(onlyfiles11[i][3]=='5'):\n",
    "        fold5.append(raw_sounds11[i])\n",
    "        dataclass5.append(11)\n",
    "raw_sounds11.shape \n"
   ]
  },
  {
   "cell_type": "code",
   "execution_count": 14,
   "metadata": {},
   "outputs": [
    {
     "data": {
      "text/plain": [
       "(40, 280)"
      ]
     },
     "execution_count": 14,
     "metadata": {},
     "output_type": "execute_result"
    }
   ],
   "source": [
    "onlyfiles12 = [f for f in listdir(r\"C:\\internship\\meeting-folds\\pw\") if isfile(join(r\"C:\\internship\\meeting-folds\\pw\", f))]\n",
    "raw_sounds12= []\n",
    "for i in range(len(onlyfiles12)):\n",
    "    X12,sr12=librosa.load( os.path.join(r\"C:\\internship\\meeting-folds\\pw\",onlyfiles12[i]))\n",
    "    me12=_extract_segments(X12,onlyfiles12[i])\n",
    "    #me12 = np.mean(librosa.feature.melspectrogram(y=X12, sr=sr12, n_mels=40).T,axis=0)\n",
    "    raw_sounds12.append(me12)\n",
    "    dataclass.append(12)\n",
    "raw_sounds12=np.array(raw_sounds12)\n",
    "for i in range(len(onlyfiles12)):\n",
    "    if(onlyfiles12[i][3]=='1'):\n",
    "        fold1.append(raw_sounds12[i])\n",
    "        dataclass1.append(12)\n",
    "    elif(onlyfiles12[i][3]=='2'):\n",
    "        fold2.append(raw_sounds12[i])\n",
    "        dataclass2.append(12)\n",
    "    elif(onlyfiles12[i][3]=='3'):\n",
    "        fold3.append(raw_sounds12[i])\n",
    "        dataclass3.append(12)\n",
    "    elif(onlyfiles12[i][3]=='4'):\n",
    "        fold4.append(raw_sounds12[i])\n",
    "        dataclass4.append(12)\n",
    "    elif(onlyfiles12[i][3]=='5'):\n",
    "        fold5.append(raw_sounds12[i])\n",
    "        dataclass5.append(12)\n",
    "raw_sounds12.shape \n"
   ]
  },
  {
   "cell_type": "code",
   "execution_count": 15,
   "metadata": {},
   "outputs": [
    {
     "name": "stdout",
     "output_type": "stream",
     "text": [
      "(96, 280)\n",
      "(96, 280)\n",
      "(96, 280)\n",
      "(96, 280)\n",
      "(96, 280)\n"
     ]
    }
   ],
   "source": [
    "fold1=np.array(fold1)\n",
    "print(fold1.shape)\n",
    "fold2=np.array(fold2)\n",
    "print(fold2.shape)\n",
    "fold3=np.array(fold3)\n",
    "print(fold3.shape)\n",
    "fold4=np.array(fold4)\n",
    "print(fold4.shape)\n",
    "fold5=np.array(fold5)\n",
    "print(fold5.shape)\n"
   ]
  },
  {
   "cell_type": "code",
   "execution_count": 16,
   "metadata": {},
   "outputs": [
    {
     "name": "stdout",
     "output_type": "stream",
     "text": [
      "96\n",
      "96\n",
      "96\n",
      "96\n",
      "96\n"
     ]
    }
   ],
   "source": [
    "print(len(dataclass1))\n",
    "print(len(dataclass2))\n",
    "print(len(dataclass3))\n",
    "print(len(dataclass4))\n",
    "print(len(dataclass5))"
   ]
  },
  {
   "cell_type": "code",
   "execution_count": 53,
   "metadata": {},
   "outputs": [
    {
     "name": "stdout",
     "output_type": "stream",
     "text": [
      "(384, 280)\n",
      "(384,)\n"
     ]
    }
   ],
   "source": [
    "train=[]\n",
    "train_x=np.vstack([fold1,fold2,fold3,fold4])\n",
    "train_x=np.array(train_x)\n",
    "train_y=dataclass1+dataclass2+dataclass3+dataclass4\n",
    "print (train_x.shape)\n",
    "train_y=np.array(train_y)\n",
    "print (train_y.shape)\n"
   ]
  },
  {
   "cell_type": "code",
   "execution_count": 54,
   "metadata": {},
   "outputs": [
    {
     "name": "stdout",
     "output_type": "stream",
     "text": [
      "(384, 12)\n"
     ]
    }
   ],
   "source": [
    "labelencoder_train=LabelEncoder()\n",
    "labelencoder_train.fit(train_y)\n",
    "data_cl=labelencoder_train.transform(train_y)\n",
    "dummy_class_train=np_utils.to_categorical(data_cl)\n",
    "print (dummy_class_train.shape)\n"
   ]
  },
  {
   "cell_type": "code",
   "execution_count": 55,
   "metadata": {},
   "outputs": [
    {
     "name": "stdout",
     "output_type": "stream",
     "text": [
      "(96, 12)\n"
     ]
    }
   ],
   "source": [
    "labelencoder_test=LabelEncoder()\n",
    "labelencoder_test.fit(dataclass5)\n",
    "data_cl=labelencoder_test.transform(dataclass5)\n",
    "dummy_class_test=np_utils.to_categorical(data_cl)\n",
    "print (dummy_class_test.shape)\n"
   ]
  },
  {
   "cell_type": "code",
   "execution_count": 56,
   "metadata": {
    "collapsed": true
   },
   "outputs": [],
   "source": [
    "#convolutional neural network model trained on all the folds\n",
    "model = Sequential()\n",
    "#train_xx = np.expand_dims(train_x, axis=2)\n",
    "#foldi= np.expand_dims(fold2, axis=2)\n",
    "#model.add(Conv1D(filters=10, kernel_size=5, input_shape=(40,1)))\n",
    "#model.add(MaxPooling1D(pool_size=5 ))\n",
    "#model.add(Flatten())\n",
    "model.add(Dense(500, activation='relu',input_dim=280))\n",
    "model.add(Dropout(0.1))\n",
    "model.add(Dense(500, activation='relu'))\n",
    "model.add(Dropout(0.1))\n",
    "model.add(Dense(500, activation='relu'))\n",
    "model.add(Dropout(0.1))\n",
    "#model.add(Dense(100, activation='relu'))\n",
    "#model.add(Dense(100, activation='relu'))\n",
    "model.add(Dense(12, activation='softmax'))\n",
    "#train_xx.shape\n",
    "\n"
   ]
  },
  {
   "cell_type": "code",
   "execution_count": 57,
   "metadata": {
    "collapsed": true
   },
   "outputs": [],
   "source": [
    "batch_size = 50\n",
    "epochs = 170\n",
    "model.compile(optimizer='rmsprop', loss='categorical_crossentropy', metrics=['accuracy'])\n"
   ]
  },
  {
   "cell_type": "code",
   "execution_count": 58,
   "metadata": {},
   "outputs": [
    {
     "name": "stdout",
     "output_type": "stream",
     "text": [
      "Epoch 1/170\n",
      "384/384 [==============================] - 1s 2ms/step - loss: 2.5750 - acc: 0.3333\n",
      "Epoch 2/170\n",
      "384/384 [==============================] - 0s 651us/step - loss: 1.5345 - acc: 0.5391\n",
      "Epoch 3/170\n",
      "384/384 [==============================] - 0s 488us/step - loss: 1.1620 - acc: 0.6901\n",
      "Epoch 4/170\n",
      "384/384 [==============================] - 0s 529us/step - loss: 1.0574 - acc: 0.6797\n",
      "Epoch 5/170\n",
      "384/384 [==============================] - 0s 488us/step - loss: 0.9122 - acc: 0.7630\n",
      "Epoch 6/170\n",
      "384/384 [==============================] - 0s 488us/step - loss: 0.9947 - acc: 0.7240\n",
      "Epoch 7/170\n",
      "384/384 [==============================] - 0s 529us/step - loss: 0.8103 - acc: 0.7682\n",
      "Epoch 8/170\n",
      "384/384 [==============================] - 0s 529us/step - loss: 0.6093 - acc: 0.8359\n",
      "Epoch 9/170\n",
      "384/384 [==============================] - 0s 488us/step - loss: 0.5892 - acc: 0.8516\n",
      "Epoch 10/170\n",
      "384/384 [==============================] - 0s 692us/step - loss: 0.6660 - acc: 0.8151\n",
      "Epoch 11/170\n",
      "384/384 [==============================] - 0s 570us/step - loss: 0.6472 - acc: 0.8359\n",
      "Epoch 12/170\n",
      "384/384 [==============================] - 0s 529us/step - loss: 0.4304 - acc: 0.9063\n",
      "Epoch 13/170\n",
      "384/384 [==============================] - 0s 529us/step - loss: 0.4685 - acc: 0.8620\n",
      "Epoch 14/170\n",
      "384/384 [==============================] - 0s 488us/step - loss: 0.3911 - acc: 0.8932\n",
      "Epoch 15/170\n",
      "384/384 [==============================] - 0s 610us/step - loss: 0.3698 - acc: 0.9010\n",
      "Epoch 16/170\n",
      "384/384 [==============================] - 0s 570us/step - loss: 0.4279 - acc: 0.8620\n",
      "Epoch 17/170\n",
      "384/384 [==============================] - 0s 529us/step - loss: 0.1997 - acc: 0.9349\n",
      "Epoch 18/170\n",
      "384/384 [==============================] - 0s 488us/step - loss: 0.2665 - acc: 0.9245\n",
      "Epoch 19/170\n",
      "384/384 [==============================] - 0s 529us/step - loss: 0.3035 - acc: 0.9349\n",
      "Epoch 20/170\n",
      "384/384 [==============================] - 0s 529us/step - loss: 0.3635 - acc: 0.9297\n",
      "Epoch 21/170\n",
      "384/384 [==============================] - 0s 529us/step - loss: 0.2999 - acc: 0.9297\n",
      "Epoch 22/170\n",
      "384/384 [==============================] - 0s 488us/step - loss: 0.1368 - acc: 0.9688\n",
      "Epoch 23/170\n",
      "384/384 [==============================] - 0s 448us/step - loss: 0.4512 - acc: 0.9141\n",
      "Epoch 24/170\n",
      "384/384 [==============================] - 0s 529us/step - loss: 0.0815 - acc: 0.9818\n",
      "Epoch 25/170\n",
      "384/384 [==============================] - 0s 488us/step - loss: 0.2148 - acc: 0.9427\n",
      "Epoch 26/170\n",
      "384/384 [==============================] - 0s 529us/step - loss: 0.1400 - acc: 0.9635\n",
      "Epoch 27/170\n",
      "384/384 [==============================] - 0s 488us/step - loss: 0.1757 - acc: 0.9583\n",
      "Epoch 28/170\n",
      "384/384 [==============================] - 0s 488us/step - loss: 0.1425 - acc: 0.9557\n",
      "Epoch 29/170\n",
      "384/384 [==============================] - 0s 529us/step - loss: 0.3436 - acc: 0.9219\n",
      "Epoch 30/170\n",
      "384/384 [==============================] - 0s 488us/step - loss: 0.0985 - acc: 0.9661\n",
      "Epoch 31/170\n",
      "384/384 [==============================] - 0s 529us/step - loss: 0.0798 - acc: 0.9766\n",
      "Epoch 32/170\n",
      "384/384 [==============================] - 0s 529us/step - loss: 0.0590 - acc: 0.9818\n",
      "Epoch 33/170\n",
      "384/384 [==============================] - 0s 529us/step - loss: 0.2122 - acc: 0.9453\n",
      "Epoch 34/170\n",
      "384/384 [==============================] - 0s 529us/step - loss: 0.0480 - acc: 0.9818\n",
      "Epoch 35/170\n",
      "384/384 [==============================] - 0s 529us/step - loss: 0.1648 - acc: 0.9583\n",
      "Epoch 36/170\n",
      "384/384 [==============================] - 0s 529us/step - loss: 0.1994 - acc: 0.9557\n",
      "Epoch 37/170\n",
      "384/384 [==============================] - 0s 529us/step - loss: 0.0266 - acc: 0.9948\n",
      "Epoch 38/170\n",
      "384/384 [==============================] - 0s 651us/step - loss: 0.0204 - acc: 0.9948\n",
      "Epoch 39/170\n",
      "384/384 [==============================] - 0s 732us/step - loss: 0.1871 - acc: 0.9557\n",
      "Epoch 40/170\n",
      "384/384 [==============================] - 0s 732us/step - loss: 0.1378 - acc: 0.9661\n",
      "Epoch 41/170\n",
      "384/384 [==============================] - 0s 773us/step - loss: 0.1524 - acc: 0.9688\n",
      "Epoch 42/170\n",
      "384/384 [==============================] - 0s 773us/step - loss: 0.0251 - acc: 0.9922\n",
      "Epoch 43/170\n",
      "384/384 [==============================] - 0s 732us/step - loss: 0.0487 - acc: 0.9974\n",
      "Epoch 44/170\n",
      "384/384 [==============================] - 0s 732us/step - loss: 0.2287 - acc: 0.9583\n",
      "Epoch 45/170\n",
      "384/384 [==============================] - 0s 651us/step - loss: 0.0167 - acc: 0.9974\n",
      "Epoch 46/170\n",
      "384/384 [==============================] - 0s 529us/step - loss: 0.0075 - acc: 1.0000\n",
      "Epoch 47/170\n",
      "384/384 [==============================] - 0s 488us/step - loss: 0.0843 - acc: 0.9896\n",
      "Epoch 48/170\n",
      "384/384 [==============================] - 0s 529us/step - loss: 0.3199 - acc: 0.9453\n",
      "Epoch 49/170\n",
      "384/384 [==============================] - 0s 488us/step - loss: 0.0272 - acc: 0.9974\n",
      "Epoch 50/170\n",
      "384/384 [==============================] - 0s 529us/step - loss: 0.0031 - acc: 1.0000\n",
      "Epoch 51/170\n",
      "384/384 [==============================] - 0s 529us/step - loss: 0.0523 - acc: 0.9870\n",
      "Epoch 52/170\n",
      "384/384 [==============================] - 0s 529us/step - loss: 0.0590 - acc: 0.9896\n",
      "Epoch 53/170\n",
      "384/384 [==============================] - 0s 529us/step - loss: 0.2005 - acc: 0.9583\n",
      "Epoch 54/170\n",
      "384/384 [==============================] - 0s 488us/step - loss: 0.2357 - acc: 0.9661\n",
      "Epoch 55/170\n",
      "384/384 [==============================] - 0s 488us/step - loss: 0.2496 - acc: 0.9583\n",
      "Epoch 56/170\n",
      "384/384 [==============================] - 0s 448us/step - loss: 0.0987 - acc: 0.9844\n",
      "Epoch 57/170\n",
      "384/384 [==============================] - 0s 529us/step - loss: 0.0101 - acc: 0.9948\n",
      "Epoch 58/170\n",
      "384/384 [==============================] - 0s 529us/step - loss: 0.0278 - acc: 0.9922\n",
      "Epoch 59/170\n",
      "384/384 [==============================] - 0s 529us/step - loss: 0.0028 - acc: 1.0000\n",
      "Epoch 60/170\n",
      "384/384 [==============================] - 0s 529us/step - loss: 0.0039 - acc: 1.0000\n",
      "Epoch 61/170\n",
      "384/384 [==============================] - 0s 529us/step - loss: 0.0049 - acc: 0.9974\n",
      "Epoch 62/170\n",
      "384/384 [==============================] - 0s 529us/step - loss: 0.1604 - acc: 0.9792\n",
      "Epoch 63/170\n",
      "384/384 [==============================] - 0s 488us/step - loss: 0.0160 - acc: 0.9948\n",
      "Epoch 64/170\n",
      "384/384 [==============================] - 0s 529us/step - loss: 0.0119 - acc: 0.9948\n",
      "Epoch 65/170\n",
      "384/384 [==============================] - 0s 529us/step - loss: 0.0661 - acc: 0.9818\n",
      "Epoch 66/170\n",
      "384/384 [==============================] - 0s 488us/step - loss: 0.1587 - acc: 0.9714\n",
      "Epoch 67/170\n",
      "384/384 [==============================] - 0s 529us/step - loss: 0.0411 - acc: 0.9896\n",
      "Epoch 68/170\n",
      "384/384 [==============================] - 0s 529us/step - loss: 0.1012 - acc: 0.9766\n",
      "Epoch 69/170\n",
      "384/384 [==============================] - 0s 529us/step - loss: 0.0402 - acc: 0.9896\n",
      "Epoch 70/170\n",
      "384/384 [==============================] - 0s 488us/step - loss: 0.0073 - acc: 0.9948\n",
      "Epoch 71/170\n",
      "384/384 [==============================] - 0s 488us/step - loss: 9.3444e-04 - acc: 1.0000\n",
      "Epoch 72/170\n",
      "384/384 [==============================] - 0s 448us/step - loss: 8.5060e-04 - acc: 1.0000\n",
      "Epoch 73/170\n",
      "384/384 [==============================] - 0s 448us/step - loss: 6.6486e-04 - acc: 1.0000\n",
      "Epoch 74/170\n",
      "384/384 [==============================] - 0s 448us/step - loss: 0.0308 - acc: 0.9922\n",
      "Epoch 75/170\n",
      "384/384 [==============================] - 0s 488us/step - loss: 0.2784 - acc: 0.9609\n",
      "Epoch 76/170\n",
      "384/384 [==============================] - 0s 488us/step - loss: 0.1073 - acc: 0.9896\n",
      "Epoch 77/170\n",
      "384/384 [==============================] - 0s 448us/step - loss: 0.0221 - acc: 0.9974\n",
      "Epoch 78/170\n",
      "384/384 [==============================] - 0s 448us/step - loss: 9.0025e-04 - acc: 1.0000\n",
      "Epoch 79/170\n",
      "384/384 [==============================] - 0s 448us/step - loss: 0.0422 - acc: 0.9974\n",
      "Epoch 80/170\n",
      "384/384 [==============================] - 0s 488us/step - loss: 0.1783 - acc: 0.9661\n",
      "Epoch 81/170\n",
      "384/384 [==============================] - 0s 488us/step - loss: 7.0045e-04 - acc: 1.0000\n",
      "Epoch 82/170\n",
      "384/384 [==============================] - 0s 488us/step - loss: 0.0812 - acc: 0.9844\n",
      "Epoch 83/170\n"
     ]
    },
    {
     "name": "stdout",
     "output_type": "stream",
     "text": [
      "384/384 [==============================] - 0s 488us/step - loss: 0.1205 - acc: 0.9792\n",
      "Epoch 84/170\n",
      "384/384 [==============================] - 0s 488us/step - loss: 0.0112 - acc: 0.9974\n",
      "Epoch 85/170\n",
      "384/384 [==============================] - 0s 488us/step - loss: 0.0014 - acc: 1.0000\n",
      "Epoch 86/170\n",
      "384/384 [==============================] - 0s 488us/step - loss: 0.0653 - acc: 0.9922\n",
      "Epoch 87/170\n",
      "384/384 [==============================] - 0s 488us/step - loss: 0.0233 - acc: 0.9974\n",
      "Epoch 88/170\n",
      "384/384 [==============================] - 0s 488us/step - loss: 0.0047 - acc: 0.9974\n",
      "Epoch 89/170\n",
      "384/384 [==============================] - 0s 488us/step - loss: 0.0572 - acc: 0.9870\n",
      "Epoch 90/170\n",
      "384/384 [==============================] - 0s 488us/step - loss: 0.0219 - acc: 0.9948\n",
      "Epoch 91/170\n",
      "384/384 [==============================] - 0s 488us/step - loss: 0.0103 - acc: 0.9974\n",
      "Epoch 92/170\n",
      "384/384 [==============================] - 0s 529us/step - loss: 0.0824 - acc: 0.9896\n",
      "Epoch 93/170\n",
      "384/384 [==============================] - 0s 488us/step - loss: 0.0013 - acc: 1.0000\n",
      "Epoch 94/170\n",
      "384/384 [==============================] - 0s 488us/step - loss: 0.0011 - acc: 1.0000\n",
      "Epoch 95/170\n",
      "384/384 [==============================] - 0s 488us/step - loss: 0.1763 - acc: 0.9870\n",
      "Epoch 96/170\n",
      "384/384 [==============================] - 0s 488us/step - loss: 0.1826 - acc: 0.9661\n",
      "Epoch 97/170\n",
      "384/384 [==============================] - 0s 488us/step - loss: 0.1097 - acc: 0.9896\n",
      "Epoch 98/170\n",
      "384/384 [==============================] - 0s 570us/step - loss: 0.0080 - acc: 0.9974\n",
      "Epoch 99/170\n",
      "384/384 [==============================] - 0s 488us/step - loss: 9.9970e-04 - acc: 1.0000\n",
      "Epoch 100/170\n",
      "384/384 [==============================] - 0s 488us/step - loss: 0.0022 - acc: 1.0000\n",
      "Epoch 101/170\n",
      "384/384 [==============================] - 0s 488us/step - loss: 2.2712e-04 - acc: 1.0000\n",
      "Epoch 102/170\n",
      "384/384 [==============================] - 0s 488us/step - loss: 3.3537e-04 - acc: 1.0000\n",
      "Epoch 103/170\n",
      "384/384 [==============================] - 0s 448us/step - loss: 0.0746 - acc: 0.9740\n",
      "Epoch 104/170\n",
      "384/384 [==============================] - 0s 448us/step - loss: 0.0097 - acc: 0.9948\n",
      "Epoch 105/170\n",
      "384/384 [==============================] - 0s 488us/step - loss: 0.0484 - acc: 0.9922\n",
      "Epoch 106/170\n",
      "384/384 [==============================] - 0s 488us/step - loss: 0.0253 - acc: 0.9896\n",
      "Epoch 107/170\n",
      "384/384 [==============================] - 0s 570us/step - loss: 0.1564 - acc: 0.9714\n",
      "Epoch 108/170\n",
      "384/384 [==============================] - 0s 529us/step - loss: 0.1599 - acc: 0.9740\n",
      "Epoch 109/170\n",
      "384/384 [==============================] - 0s 488us/step - loss: 0.0439 - acc: 0.9974\n",
      "Epoch 110/170\n",
      "384/384 [==============================] - 0s 488us/step - loss: 0.0669 - acc: 0.9870\n",
      "Epoch 111/170\n",
      "384/384 [==============================] - 0s 488us/step - loss: 0.0026 - acc: 0.9974\n",
      "Epoch 112/170\n",
      "384/384 [==============================] - 0s 488us/step - loss: 6.5713e-04 - acc: 1.0000\n",
      "Epoch 113/170\n",
      "384/384 [==============================] - 0s 488us/step - loss: 0.0634 - acc: 0.9922\n",
      "Epoch 114/170\n",
      "384/384 [==============================] - 0s 488us/step - loss: 0.1017 - acc: 0.9818\n",
      "Epoch 115/170\n",
      "384/384 [==============================] - 0s 529us/step - loss: 0.0046 - acc: 0.9974\n",
      "Epoch 116/170\n",
      "384/384 [==============================] - 0s 448us/step - loss: 3.8690e-04 - acc: 1.0000\n",
      "Epoch 117/170\n",
      "384/384 [==============================] - 0s 488us/step - loss: 1.3991e-04 - acc: 1.0000\n",
      "Epoch 118/170\n",
      "384/384 [==============================] - 0s 529us/step - loss: 0.0159 - acc: 0.9922\n",
      "Epoch 119/170\n",
      "384/384 [==============================] - 0s 488us/step - loss: 0.4311 - acc: 0.9505\n",
      "Epoch 120/170\n",
      "384/384 [==============================] - 0s 488us/step - loss: 0.0037 - acc: 0.9974\n",
      "Epoch 121/170\n",
      "384/384 [==============================] - 0s 488us/step - loss: 2.8722e-04 - acc: 1.0000\n",
      "Epoch 122/170\n",
      "384/384 [==============================] - 0s 448us/step - loss: 0.0421 - acc: 0.9974\n",
      "Epoch 123/170\n",
      "384/384 [==============================] - 0s 488us/step - loss: 4.9628e-05 - acc: 1.0000\n",
      "Epoch 124/170\n",
      "384/384 [==============================] - 0s 529us/step - loss: 5.0269e-05 - acc: 1.0000\n",
      "Epoch 125/170\n",
      "384/384 [==============================] - 0s 448us/step - loss: 1.2424e-04 - acc: 1.0000\n",
      "Epoch 126/170\n",
      "384/384 [==============================] - 0s 448us/step - loss: 0.0298 - acc: 0.9974\n",
      "Epoch 127/170\n",
      "384/384 [==============================] - 0s 529us/step - loss: 0.1619 - acc: 0.9792\n",
      "Epoch 128/170\n",
      "384/384 [==============================] - 0s 448us/step - loss: 2.2990e-04 - acc: 1.0000\n",
      "Epoch 129/170\n",
      "384/384 [==============================] - 0s 488us/step - loss: 8.9633e-05 - acc: 1.0000\n",
      "Epoch 130/170\n",
      "384/384 [==============================] - 0s 448us/step - loss: 1.9651e-04 - acc: 1.0000\n",
      "Epoch 131/170\n",
      "384/384 [==============================] - 0s 488us/step - loss: 4.0645e-05 - acc: 1.0000\n",
      "Epoch 132/170\n",
      "384/384 [==============================] - 0s 488us/step - loss: 3.9067e-05 - acc: 1.0000\n",
      "Epoch 133/170\n",
      "384/384 [==============================] - 0s 448us/step - loss: 4.6733e-05 - acc: 1.0000\n",
      "Epoch 134/170\n",
      "384/384 [==============================] - 0s 488us/step - loss: 1.6950e-05 - acc: 1.0000\n",
      "Epoch 135/170\n",
      "384/384 [==============================] - 0s 529us/step - loss: 0.2186 - acc: 0.9688\n",
      "Epoch 136/170\n",
      "384/384 [==============================] - 0s 488us/step - loss: 0.0945 - acc: 0.9922\n",
      "Epoch 137/170\n",
      "384/384 [==============================] - 0s 488us/step - loss: 0.1793 - acc: 0.9844\n",
      "Epoch 138/170\n",
      "384/384 [==============================] - 0s 448us/step - loss: 0.0423 - acc: 0.9974\n",
      "Epoch 139/170\n",
      "384/384 [==============================] - 0s 488us/step - loss: 0.1077 - acc: 0.9870\n",
      "Epoch 140/170\n",
      "384/384 [==============================] - 0s 488us/step - loss: 0.1118 - acc: 0.9870\n",
      "Epoch 141/170\n",
      "384/384 [==============================] - 0s 448us/step - loss: 0.0825 - acc: 0.9948\n",
      "Epoch 142/170\n",
      "384/384 [==============================] - 0s 448us/step - loss: 0.0069 - acc: 0.9974\n",
      "Epoch 143/170\n",
      "384/384 [==============================] - 0s 448us/step - loss: 0.0231 - acc: 0.9948\n",
      "Epoch 144/170\n",
      "384/384 [==============================] - 0s 488us/step - loss: 6.0245e-05 - acc: 1.0000\n",
      "Epoch 145/170\n",
      "384/384 [==============================] - 0s 488us/step - loss: 5.1321e-04 - acc: 1.0000\n",
      "Epoch 146/170\n",
      "384/384 [==============================] - 0s 448us/step - loss: 4.3634e-05 - acc: 1.0000\n",
      "Epoch 147/170\n",
      "384/384 [==============================] - 0s 488us/step - loss: 4.3640e-05 - acc: 1.0000\n",
      "Epoch 148/170\n",
      "384/384 [==============================] - 0s 488us/step - loss: 6.0307e-05 - acc: 1.0000\n",
      "Epoch 149/170\n",
      "384/384 [==============================] - 0s 488us/step - loss: 1.4142e-05 - acc: 1.0000\n",
      "Epoch 150/170\n",
      "384/384 [==============================] - 0s 488us/step - loss: 0.0420 - acc: 0.9974\n",
      "Epoch 151/170\n",
      "384/384 [==============================] - 0s 448us/step - loss: 0.1816 - acc: 0.9870\n",
      "Epoch 152/170\n",
      "384/384 [==============================] - 0s 448us/step - loss: 0.1250 - acc: 0.9870\n",
      "Epoch 153/170\n",
      "384/384 [==============================] - 0s 488us/step - loss: 0.1269 - acc: 0.9714\n",
      "Epoch 154/170\n",
      "384/384 [==============================] - 0s 488us/step - loss: 0.1036 - acc: 0.9870\n",
      "Epoch 155/170\n",
      "384/384 [==============================] - 0s 529us/step - loss: 0.0421 - acc: 0.9974\n",
      "Epoch 156/170\n",
      "384/384 [==============================] - 0s 488us/step - loss: 0.1668 - acc: 0.9870\n",
      "Epoch 157/170\n",
      "384/384 [==============================] - 0s 488us/step - loss: 1.4955e-04 - acc: 1.0000\n",
      "Epoch 158/170\n",
      "384/384 [==============================] - 0s 448us/step - loss: 1.9888e-05 - acc: 1.0000\n",
      "Epoch 159/170\n",
      "384/384 [==============================] - 0s 529us/step - loss: 0.0630 - acc: 0.9922\n",
      "Epoch 160/170\n",
      "384/384 [==============================] - 0s 488us/step - loss: 0.1672 - acc: 0.9844\n",
      "Epoch 161/170\n",
      "384/384 [==============================] - 0s 488us/step - loss: 0.0022 - acc: 1.0000\n",
      "Epoch 162/170\n",
      "384/384 [==============================] - 0s 488us/step - loss: 0.0244 - acc: 0.9948\n",
      "Epoch 163/170\n",
      "384/384 [==============================] - 0s 448us/step - loss: 2.2501e-05 - acc: 1.0000\n",
      "Epoch 164/170\n"
     ]
    },
    {
     "name": "stdout",
     "output_type": "stream",
     "text": [
      "384/384 [==============================] - 0s 448us/step - loss: 3.1306e-05 - acc: 1.0000\n",
      "Epoch 165/170\n",
      "384/384 [==============================] - 0s 488us/step - loss: 2.5181e-05 - acc: 1.0000\n",
      "Epoch 166/170\n",
      "384/384 [==============================] - 0s 448us/step - loss: 1.0409e-04 - acc: 1.0000\n",
      "Epoch 167/170\n",
      "384/384 [==============================] - 0s 488us/step - loss: 4.1077e-04 - acc: 1.0000\n",
      "Epoch 168/170\n",
      "384/384 [==============================] - 0s 488us/step - loss: 0.1736 - acc: 0.9818\n",
      "Epoch 169/170\n",
      "384/384 [==============================] - 0s 448us/step - loss: 4.4119e-05 - acc: 1.0000\n",
      "Epoch 170/170\n",
      "384/384 [==============================] - 0s 488us/step - loss: 0.0474 - acc: 0.9948\n"
     ]
    }
   ],
   "source": [
    "history = model.fit(train_x, dummy_class_train, batch_size=batch_size, epochs=epochs, verbose=1)#, validation_data=(fold5,dummy_class_test))"
   ]
  },
  {
   "cell_type": "code",
   "execution_count": 59,
   "metadata": {},
   "outputs": [
    {
     "name": "stdout",
     "output_type": "stream",
     "text": [
      "[2.1556508342425027, 0.83333333333333337]\n"
     ]
    }
   ],
   "source": [
    " print(model.evaluate(fold5,dummy_class_test, verbose=0))"
   ]
  },
  {
   "cell_type": "code",
   "execution_count": null,
   "metadata": {
    "collapsed": true
   },
   "outputs": [],
   "source": []
  }
 ],
 "metadata": {
  "kernelspec": {
   "display_name": "Python 3",
   "language": "python",
   "name": "python3"
  },
  "language_info": {
   "codemirror_mode": {
    "name": "ipython",
    "version": 3
   },
   "file_extension": ".py",
   "mimetype": "text/x-python",
   "name": "python",
   "nbconvert_exporter": "python",
   "pygments_lexer": "ipython3",
   "version": "3.6.3"
  }
 },
 "nbformat": 4,
 "nbformat_minor": 2
}
