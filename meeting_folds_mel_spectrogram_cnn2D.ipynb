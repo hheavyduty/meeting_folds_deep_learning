{
 "cells": [
  {
   "cell_type": "code",
   "execution_count": 1,
   "metadata": {},
   "outputs": [
    {
     "name": "stderr",
     "output_type": "stream",
     "text": [
      "Using TensorFlow backend.\n"
     ]
    },
    {
     "name": "stdout",
     "output_type": "stream",
     "text": [
      "5\n"
     ]
    }
   ],
   "source": [
    "from os import listdir\n",
    "import os\n",
    "import keras\n",
    "from os.path import isfile, join\n",
    "import librosa\n",
    "import numpy as np\n",
    "from keras.models import Sequential\n",
    "from keras.layers import Dense,Flatten,Conv2D,MaxPooling2D,Dropout\n",
    "import pandas as pd\n",
    "#data_class=np.loadtxt(r\"C:\\Users\\USER\\Desktop\\labels.txt\",delimiter=',')\n",
    "from sklearn.preprocessing import LabelEncoder,OneHotEncoder\n",
    "from keras.utils import np_utils   \n",
    "import logging\n",
    "from keras.regularizers import l2\n",
    "from keras import backend as K\n",
    "from keras.layers.normalization import BatchNormalization\n",
    "#K.set_image_dim_ordering('th')\n",
    "\n",
    "print(5)"
   ]
  },
  {
   "cell_type": "code",
   "execution_count": 2,
   "metadata": {},
   "outputs": [
    {
     "name": "stdout",
     "output_type": "stream",
     "text": [
      "5\n"
     ]
    }
   ],
   "source": [
    "def _extract_segments(clip, filename):\n",
    "    #clip, filename = args\n",
    "\n",
    "    # Due to an off-by-one bug which has not been caught earlier,\n",
    "    # actually both variants (long and short) use the same\n",
    "    # overlap setting (half of window size) - whereas different settings\n",
    "    # were mentioned in the paper.\n",
    "    #\n",
    "    # The code below has been already cleaned up to reflect those changes.\n",
    "    #\n",
    "    # Apart from that, for reproducibility purposes it is required that\n",
    "    # librosa v0.3.1 is used, as further versions drastically change\n",
    "    # the delta computations.\n",
    "    \n",
    "    FRAMES_PER_SEGMENT = 6  # 41 frames ~= 950 ms segment length @ 22050 Hz\n",
    "    WINDOW_SIZE = 512 * 6   # 23 ms per frame @ 22050 Hz\n",
    "    STEP_SIZE = 512 * 6// 2\n",
    "    BANDS = 60\n",
    "    #sum=np.zeros(60,41)\n",
    "    \n",
    "    s = 0\n",
    "    segments1 = []\n",
    "    segments2=[]\n",
    "    logspec=[]\n",
    "    logspec=np.array(logspec)\n",
    "\n",
    "    normalization_factor = 1 / np.max(np.abs(clip)) \n",
    "    clip = clip * normalization_factor\n",
    "\n",
    "    while len(clip[s * STEP_SIZE:s * STEP_SIZE + WINDOW_SIZE]) == WINDOW_SIZE:\n",
    "        signal = clip[s * STEP_SIZE:s * STEP_SIZE + WINDOW_SIZE]\n",
    "\n",
    "        melspec = librosa.feature.melspectrogram(signal, sr=22050, n_fft=1024, hop_length=512, n_mels=BANDS)\n",
    "        #logspec = librosa.logamplitude(melspec)\n",
    "\n",
    "        delta=librosa.feature.delta(melspec,mode='nearest')\n",
    "        #melspec = melspec.T.flatten()[:, np.newaxis].T\n",
    "        #melspec = pd.DataFrame(data=melspec, dtype='float32', index=[0], columns=list('logspec_b{}_f{}'.format(i % BANDS, i / BANDS) for i in range(np.shape(logspec)[1])))\n",
    "\n",
    "        #if np.mean(logspec.as_matrix()) > -70.0:   # drop silent frames\n",
    "        #segment_meta = pd.DataFrame({'filename': filename,\n",
    "                                        #'s_begin': s * STEP_SIZE, 's_end': s * STEP_SIZE + WINDOW_SIZE,}, index=[0])\n",
    "        #segments.append(pd.concat((segment_meta, logspec), axis=1))\n",
    "        segments1.append(melspec)\n",
    "        segments2.append(delta)\n",
    "        s = s + 1\n",
    "    #for i in range(s-1):\n",
    "        #sum=sum+segments(i,:,:)\n",
    "    #segments=sum/s-1\n",
    "    segments1=np.mean(segments1,axis=0) \n",
    "    segments2=np.mean(segments2,axis=0)\n",
    "\n",
    "    #segments = pd.concat(segments, ignore_index=True)\n",
    "    #libc.malloc_trim(0)\n",
    "    return segments1,segments2\n",
    "print(5)"
   ]
  },
  {
   "cell_type": "code",
   "execution_count": 3,
   "metadata": {
    "collapsed": true
   },
   "outputs": [],
   "source": [
    "dataclass=[]\n",
    "dataclass1=[]\n",
    "dataclass2=[]\n",
    "dataclass3=[]\n",
    "dataclass4=[]\n",
    "dataclass5=[]\n",
    "fold1=[]\n",
    "fold2=[]\n",
    "fold3=[]\n",
    "fold4=[]\n",
    "fold5=[]\n",
    "fold11=[]\n",
    "fold22=[]\n",
    "fold33=[]\n",
    "fold44=[]\n",
    "fold55=[]\n"
   ]
  },
  {
   "cell_type": "code",
   "execution_count": 4,
   "metadata": {
    "collapsed": true
   },
   "outputs": [],
   "source": [
    "def extract_features1(onlyfiles,cls,x):\n",
    "    \n",
    "    raw_sounds = []\n",
    "    raw=[]\n",
    "    for i in range(len(onlyfiles)):\n",
    "        X,sr=librosa.load( os.path.join(r\"C:\\internship\\meeting-folds\",os.path.join(cls,onlyfiles[i])))\n",
    "        #me2 = np.mean(librosa.feature.melspectrogram(y=X2, sr=sr2, n_mels=40).T,axis=0)\n",
    "        me,ne=_extract_segments(X,onlyfiles[i])\n",
    "        #me2=librosa.feature.melspectrogram(y=X2, sr=sr2, n_mels=60,n_fft=1024,hop_length=512)\n",
    "        raw.append(ne)\n",
    "        #print(me2.shape)\n",
    "        raw_sounds.append(me)\n",
    "        dataclass.append(2)\n",
    "    raw_sounds=np.array(raw_sounds)\n",
    "    raw=np.array(raw)\n",
    "    \n",
    "    \n",
    "    for i in range(len(onlyfiles)):\n",
    "        if(onlyfiles[i][3]=='1'):\n",
    "            fold1.append(raw_sounds[i])\n",
    "            fold11.append(raw[i])\n",
    "            dataclass1.append(x)\n",
    "        elif(onlyfiles[i][3]=='2'):\n",
    "            fold2.append(raw_sounds[i])\n",
    "            fold22.append(raw[i])\n",
    "            dataclass2.append(x)\n",
    "        elif(onlyfiles[i][3]=='3'):\n",
    "            fold3.append(raw_sounds[i])\n",
    "            fold33.append(raw[i])\n",
    "            dataclass3.append(x)\n",
    "        elif(onlyfiles[i][3]=='4'):\n",
    "            fold4.append(raw_sounds[i])\n",
    "            fold44.append(raw[i])\n",
    "            dataclass4.append(x)\n",
    "        elif(onlyfiles[i][3]=='5'):\n",
    "            fold5.append(raw_sounds[i])\n",
    "            fold55.append(raw[i])\n",
    "            dataclass5.append(x)\n",
    "    return raw_sounds,raw"
   ]
  },
  {
   "cell_type": "code",
   "execution_count": 5,
   "metadata": {},
   "outputs": [
    {
     "name": "stdout",
     "output_type": "stream",
     "text": [
      "(40, 60, 7)\n",
      "(40, 60, 7)\n"
     ]
    }
   ],
   "source": [
    "onlyfiles1 = [f for f in listdir(r\"C:\\internship\\meeting-folds\\ap\")if isfile(join(r\"C:\\internship\\meeting-folds\\ap\", f))]\n",
    "raw_sounds1=[]\n",
    "raw1=[]\n",
    "raw_sounds1,raw1=extract_features1(onlyfiles1,r\"ap\",1)\n",
    "print(raw_sounds1.shape)\n",
    "print(raw1.shape)   "
   ]
  },
  {
   "cell_type": "code",
   "execution_count": 6,
   "metadata": {},
   "outputs": [
    {
     "name": "stdout",
     "output_type": "stream",
     "text": [
      "(40, 60, 7)\n",
      "(40, 60, 7)\n"
     ]
    }
   ],
   "source": [
    "onlyfiles2 = [f for f in listdir(r\"C:\\internship\\meeting-folds\\cl\") if isfile(join(r\"C:\\internship\\meeting-folds\\cl\", f))]\n",
    "raw_sounds2 = []\n",
    "raw1=[]\n",
    "raw_sounds2,raw2=extract_features1(onlyfiles2,r\"cl\",2)\n",
    "print(raw_sounds2.shape)\n",
    "print(raw2.shape)"
   ]
  },
  {
   "cell_type": "code",
   "execution_count": 7,
   "metadata": {},
   "outputs": [
    {
     "name": "stdout",
     "output_type": "stream",
     "text": [
      "(40, 60, 7)\n",
      "(40, 60, 7)\n"
     ]
    }
   ],
   "source": [
    "onlyfiles3 = [f for f in listdir(r\"C:\\internship\\meeting-folds\\cm\") if isfile(join(r\"C:\\internship\\meeting-folds\\cm\", f))]\n",
    "raw_sounds3= []\n",
    "raw_3=[]\n",
    "raw_sounds3,raw3=extract_features1(onlyfiles3,r\"cm\",3)\n",
    "print(raw_sounds3.shape)\n",
    "print(raw3.shape)"
   ]
  },
  {
   "cell_type": "code",
   "execution_count": 8,
   "metadata": {},
   "outputs": [
    {
     "name": "stdout",
     "output_type": "stream",
     "text": [
      "(40, 60, 7)\n",
      "(40, 60, 7)\n"
     ]
    }
   ],
   "source": [
    "onlyfiles4 = [f for f in listdir(r\"C:\\internship\\meeting-folds\\co\") if isfile(join(r\"C:\\internship\\meeting-folds\\co\", f))]\n",
    "raw_sounds4= []\n",
    "raw_4=[]\n",
    "raw_sounds4,raw4=extract_features1(onlyfiles4,r\"co\",4)\n",
    "print(raw_sounds4.shape)\n",
    "print(raw4.shape)"
   ]
  },
  {
   "cell_type": "code",
   "execution_count": 9,
   "metadata": {},
   "outputs": [
    {
     "name": "stdout",
     "output_type": "stream",
     "text": [
      "(40, 60, 7)\n",
      "(40, 60, 7)\n"
     ]
    }
   ],
   "source": [
    "onlyfiles5 = [f for f in listdir(r\"C:\\internship\\meeting-folds\\ds\") if isfile(join(r\"C:\\internship\\meeting-folds\\ds\", f))]\n",
    "raw_sounds5= []\n",
    "raw_5=[]\n",
    "raw_sounds5,raw5=extract_features1(onlyfiles5,r\"ap\",5)\n",
    "print(raw_sounds5.shape)\n",
    "print(raw5.shape)\n"
   ]
  },
  {
   "cell_type": "code",
   "execution_count": 10,
   "metadata": {},
   "outputs": [
    {
     "name": "stdout",
     "output_type": "stream",
     "text": [
      "(40, 60, 7)\n",
      "(40, 60, 7)\n"
     ]
    }
   ],
   "source": [
    "onlyfiles6 = [f for f in listdir(r\"C:\\internship\\meeting-folds\\fst\") if isfile(join(r\"C:\\internship\\meeting-folds\\fst\", f))]\n",
    "raw_sounds6= []\n",
    "raw_6=[]\n",
    "raw_sounds6,raw6=extract_features1(onlyfiles6,r\"fst\",6)\n",
    "print(raw_sounds6.shape)\n",
    "print(raw6.shape)\n",
    "\n"
   ]
  },
  {
   "cell_type": "code",
   "execution_count": 11,
   "metadata": {},
   "outputs": [
    {
     "name": "stdout",
     "output_type": "stream",
     "text": [
      "(40, 60, 7)\n",
      "(40, 60, 7)\n"
     ]
    }
   ],
   "source": [
    "onlyfiles7 = [f for f in listdir(r\"C:\\internship\\meeting-folds\\kj\") if isfile(join(r\"C:\\internship\\meeting-folds\\kj\", f))]\n",
    "raw_sounds7= []\n",
    "raw_7=[]\n",
    "raw_sounds7,raw7=extract_features1(onlyfiles7,r\"kj\",7)\n",
    "print(raw_sounds7.shape)\n",
    "print(raw7.shape)"
   ]
  },
  {
   "cell_type": "code",
   "execution_count": 12,
   "metadata": {},
   "outputs": [
    {
     "name": "stdout",
     "output_type": "stream",
     "text": [
      "(40, 60, 7)\n",
      "(40, 60, 7)\n"
     ]
    }
   ],
   "source": [
    "onlyfiles8 = [f for f in listdir(r\"C:\\internship\\meeting-folds\\kn\") if isfile(join(r\"C:\\internship\\meeting-folds\\kn\", f))]\n",
    "raw_sounds8= []\n",
    "raw_8=[]\n",
    "raw_sounds8,raw8=extract_features1(onlyfiles1,r\"kn\",8)\n",
    "print(raw_sounds8.shape)\n",
    "print(raw8.shape)"
   ]
  },
  {
   "cell_type": "code",
   "execution_count": 13,
   "metadata": {},
   "outputs": [
    {
     "name": "stdout",
     "output_type": "stream",
     "text": [
      "(40, 60, 7)\n",
      "(40, 60, 7)\n"
     ]
    }
   ],
   "source": [
    "onlyfiles9 = [f for f in listdir(r\"C:\\internship\\meeting-folds\\kt\") if isfile(join(r\"C:\\internship\\meeting-folds\\kt\", f))]\n",
    "raw_sounds9= []\n",
    "raw_9=[]\n",
    "raw_sounds9,raw9=extract_features1(onlyfiles9,r\"kt\",9)\n",
    "print(raw_sounds9.shape)\n",
    "print(raw9.shape)\n",
    "\n"
   ]
  },
  {
   "cell_type": "code",
   "execution_count": 14,
   "metadata": {},
   "outputs": [
    {
     "name": "stdout",
     "output_type": "stream",
     "text": [
      "(40, 60, 7)\n",
      "(40, 60, 7)\n"
     ]
    }
   ],
   "source": [
    "onlyfiles10 = [f for f in listdir(r\"C:\\internship\\meeting-folds\\la\") if isfile(join(r\"C:\\internship\\meeting-folds\\la\", f))]\n",
    "raw_sounds10= []\n",
    "raw_10=[]\n",
    "raw_sounds10,raw10=extract_features1(onlyfiles10,r\"la\",10)\n",
    "print(raw_sounds10.shape)\n",
    "print(raw10.shape)\n"
   ]
  },
  {
   "cell_type": "code",
   "execution_count": 15,
   "metadata": {},
   "outputs": [
    {
     "name": "stdout",
     "output_type": "stream",
     "text": [
      "(40, 60, 7)\n",
      "(40, 60, 7)\n"
     ]
    }
   ],
   "source": [
    "onlyfiles11 = [f for f in listdir(r\"C:\\internship\\meeting-folds\\pr\") if isfile(join(r\"C:\\internship\\meeting-folds\\pr\", f))]\n",
    "raw_sounds11= []\n",
    "raw_11=[]\n",
    "raw_sounds11,raw11=extract_features1(onlyfiles11,r\"pr\",11)\n",
    "print(raw_sounds11.shape)\n",
    "print(raw11.shape)"
   ]
  },
  {
   "cell_type": "code",
   "execution_count": 16,
   "metadata": {},
   "outputs": [
    {
     "name": "stdout",
     "output_type": "stream",
     "text": [
      "(40, 60, 7)\n",
      "(40, 60, 7)\n"
     ]
    }
   ],
   "source": [
    "onlyfiles12 = [f for f in listdir(\"C:\\internship\\meeting-folds\\pw\") if isfile(join(\"C:\\internship\\meeting-folds\\pw\", f))]\n",
    "raw_sounds12= []\n",
    "raw_12=[]\n",
    "raw_sounds12,raw12=extract_features1(onlyfiles12,\"pw\",12)\n",
    "print(raw_sounds12.shape)\n",
    "print(raw12.shape)"
   ]
  },
  {
   "cell_type": "code",
   "execution_count": 17,
   "metadata": {},
   "outputs": [
    {
     "name": "stdout",
     "output_type": "stream",
     "text": [
      "(96, 60, 7)\n",
      "(96, 60, 7)\n",
      "(96, 60, 7)\n",
      "(96, 60, 7)\n",
      "(96, 60, 7)\n"
     ]
    }
   ],
   "source": [
    "fold1=np.array(fold1)\n",
    "print(fold1.shape)\n",
    "fold2=np.array(fold2)\n",
    "print(fold2.shape)\n",
    "fold3=np.array(fold3)\n",
    "print(fold3.shape)\n",
    "fold4=np.array(fold4)\n",
    "print(fold4.shape)\n",
    "fold5=np.array(fold5)\n",
    "print(fold5.shape)\n"
   ]
  },
  {
   "cell_type": "code",
   "execution_count": 18,
   "metadata": {},
   "outputs": [
    {
     "name": "stdout",
     "output_type": "stream",
     "text": [
      "(96, 60, 7)\n",
      "(96, 60, 7)\n",
      "(96, 60, 7)\n",
      "(96, 60, 7)\n",
      "(96, 60, 7)\n"
     ]
    }
   ],
   "source": [
    "fold11=np.array(fold11)\n",
    "print(fold11.shape)\n",
    "fold22=np.array(fold22)\n",
    "print(fold22.shape)\n",
    "fold33=np.array(fold33)\n",
    "print(fold33.shape)\n",
    "fold44=np.array(fold44)\n",
    "print(fold44.shape)\n",
    "fold55=np.array(fold55)\n",
    "print(fold55.shape)\n"
   ]
  },
  {
   "cell_type": "code",
   "execution_count": 51,
   "metadata": {},
   "outputs": [
    {
     "name": "stdout",
     "output_type": "stream",
     "text": [
      "96\n",
      "96\n",
      "96\n",
      "96\n",
      "96\n"
     ]
    }
   ],
   "source": [
    "print(len(dataclass1))\n",
    "print(len(dataclass2))\n",
    "print(len(dataclass3))\n",
    "print(len(dataclass4))\n",
    "print(len(dataclass5))"
   ]
  },
  {
   "cell_type": "code",
   "execution_count": 40,
   "metadata": {},
   "outputs": [
    {
     "name": "stdout",
     "output_type": "stream",
     "text": [
      "(384, 60, 7)\n",
      "(384,)\n",
      "(384, 60, 7)\n"
     ]
    }
   ],
   "source": [
    "train=[]\n",
    "train_x=np.vstack([fold1,fold2,fold4,fold5])\n",
    "train1_x=np.vstack([fold11,fold22,fold44,fold55])\n",
    "train_x=np.array(train_x)\n",
    "train_y=dataclass1+dataclass2+dataclass4+dataclass5\n",
    "print (train_x.shape)\n",
    "train_y=np.array(train_y)\n",
    "print (train_y.shape)\n",
    "print (train1_x.shape)"
   ]
  },
  {
   "cell_type": "code",
   "execution_count": 41,
   "metadata": {},
   "outputs": [
    {
     "name": "stdout",
     "output_type": "stream",
     "text": [
      "(384, 12)\n"
     ]
    }
   ],
   "source": [
    "labelencoder_train=LabelEncoder()\n",
    "labelencoder_train.fit(train_y)\n",
    "data_cl=labelencoder_train.transform(train_y)\n",
    "dummy_class_train=np_utils.to_categorical(data_cl)\n",
    "print (dummy_class_train.shape)\n"
   ]
  },
  {
   "cell_type": "code",
   "execution_count": 42,
   "metadata": {},
   "outputs": [
    {
     "name": "stdout",
     "output_type": "stream",
     "text": [
      "(96, 12)\n"
     ]
    }
   ],
   "source": [
    "labelencoder_test=LabelEncoder()\n",
    "labelencoder_test.fit(dataclass3)\n",
    "data_cl=labelencoder_test.transform(dataclass3)\n",
    "dummy_class_test=np_utils.to_categorical(data_cl)\n",
    "print (dummy_class_test.shape)\n"
   ]
  },
  {
   "cell_type": "code",
   "execution_count": 43,
   "metadata": {},
   "outputs": [
    {
     "name": "stdout",
     "output_type": "stream",
     "text": [
      "(384, 60, 7, 1)\n",
      "(384, 60, 7, 1)\n",
      "(96, 60, 7, 1)\n",
      "(96, 60, 7, 1)\n"
     ]
    }
   ],
   "source": [
    "train_xx = np.expand_dims(train_x, axis=3)\n",
    "print(train_xx.shape)\n",
    "train1_xx = np.expand_dims(train1_x, axis=3)\n",
    "print(train1_xx.shape)\n",
    "foldi= np.expand_dims(fold3, axis=3)\n",
    "print(foldi.shape)\n",
    "foldii= np.expand_dims(fold33, axis=3)\n",
    "print(foldii.shape)"
   ]
  },
  {
   "cell_type": "code",
   "execution_count": 44,
   "metadata": {},
   "outputs": [
    {
     "data": {
      "text/plain": [
       "(384, 60, 7, 2)"
      ]
     },
     "execution_count": 44,
     "metadata": {},
     "output_type": "execute_result"
    }
   ],
   "source": [
    "train2_xx=[]\n",
    "train2_xx=np.array(train2_xx)\n",
    "train2_xx=np.concatenate((train_xx,train1_xx),axis=3)\n",
    "train2_xx=train2_xx.reshape(384,60,7,2)\n",
    "train2_xx.shape"
   ]
  },
  {
   "cell_type": "code",
   "execution_count": 45,
   "metadata": {},
   "outputs": [
    {
     "data": {
      "text/plain": [
       "(96, 60, 7, 2)"
      ]
     },
     "execution_count": 45,
     "metadata": {},
     "output_type": "execute_result"
    }
   ],
   "source": [
    "\n",
    "foldf=np.concatenate((foldi,foldii),axis=3)\n",
    "foldf=foldf.reshape(96,60,7,2)\n",
    "foldf.shape"
   ]
  },
  {
   "cell_type": "code",
   "execution_count": 46,
   "metadata": {
    "collapsed": true
   },
   "outputs": [],
   "source": [
    "#random.seed(167)\n",
    "model=Sequential()\n",
    "\n",
    "model.add(Conv2D(80, kernel_size=(57,6),activation='relu',input_shape=(60,7,2)))\n",
    "#model.add(Batchnormalization())\n",
    "model.add(MaxPooling2D(pool_size=(2, 2), strides=(1, 3)))\n",
    "\n",
    "\n",
    "model.add(Dropout(.5))\n",
    "model.add(Conv2D(filters=80,kernel_size=(1,1),activation='relu'))\n",
    "model.add(MaxPooling2D(pool_size=(1,1),strides=(1,3)))\n",
    "\n",
    "model.add(Flatten())\n",
    "model.add(Dense(500, activation='relu'))\n",
    "model.add(Dropout(0.5))\n",
    "#model.add(Dense(num_classes, activation='softmax'))\n",
    "#model.add(Dense(500, activation='relu',input_dim=40))\n",
    "#model.add(Dropout(0.1))\n",
    "model.add(Dense(500, activation='relu'))\n",
    "model.add(Dropout(0.5))\n",
    "model.add(Dense(12, activation='softmax'))\n",
    "#model.add(Dropout(0.1))\n",
    "#model.add(Dense(500, activation='relu'))\n",
    "#model.add(Dropout(0.1))\n",
    "#model.add(Dense(100, activation='relu'))\n",
    "#model.add(Dropout(0.1))\n",
    "#model.add(Dense(12, activation='softmax'))\n",
    "#train_xx.shape\n"
   ]
  },
  {
   "cell_type": "code",
   "execution_count": 47,
   "metadata": {
    "collapsed": true
   },
   "outputs": [],
   "source": [
    "batch_size = 50\n",
    "epochs = 300\n",
    "model.compile(optimizer='rmsprop', loss='categorical_crossentropy', metrics=['accuracy'])\n"
   ]
  },
  {
   "cell_type": "code",
   "execution_count": 48,
   "metadata": {},
   "outputs": [
    {
     "name": "stdout",
     "output_type": "stream",
     "text": [
      "Epoch 1/300\n",
      "384/384 [==============================] - 1s 2ms/step - loss: 2.4156 - acc: 0.1432\n",
      "Epoch 2/300\n",
      "384/384 [==============================] - 0s 570us/step - loss: 2.0614 - acc: 0.2214\n",
      "Epoch 3/300\n",
      "384/384 [==============================] - 0s 570us/step - loss: 1.9600 - acc: 0.3385\n",
      "Epoch 4/300\n",
      "384/384 [==============================] - 0s 529us/step - loss: 1.8355 - acc: 0.3568\n",
      "Epoch 5/300\n",
      "384/384 [==============================] - 0s 570us/step - loss: 1.6920 - acc: 0.4271\n",
      "Epoch 6/300\n",
      "384/384 [==============================] - 0s 570us/step - loss: 1.6330 - acc: 0.4531\n",
      "Epoch 7/300\n",
      "384/384 [==============================] - 0s 570us/step - loss: 1.5083 - acc: 0.5026\n",
      "Epoch 8/300\n",
      "384/384 [==============================] - 0s 529us/step - loss: 1.5025 - acc: 0.5000\n",
      "Epoch 9/300\n",
      "384/384 [==============================] - 0s 570us/step - loss: 1.3617 - acc: 0.4922\n",
      "Epoch 10/300\n",
      "384/384 [==============================] - 0s 570us/step - loss: 1.3310 - acc: 0.5339\n",
      "Epoch 11/300\n",
      "384/384 [==============================] - 0s 570us/step - loss: 1.2449 - acc: 0.5521\n",
      "Epoch 12/300\n",
      "384/384 [==============================] - 0s 610us/step - loss: 1.1585 - acc: 0.5938\n",
      "Epoch 13/300\n",
      "384/384 [==============================] - 0s 610us/step - loss: 1.0767 - acc: 0.6042\n",
      "Epoch 14/300\n",
      "384/384 [==============================] - 0s 570us/step - loss: 1.0952 - acc: 0.5807\n",
      "Epoch 15/300\n",
      "384/384 [==============================] - 0s 610us/step - loss: 0.9429 - acc: 0.6615\n",
      "Epoch 16/300\n",
      "384/384 [==============================] - 0s 570us/step - loss: 0.9765 - acc: 0.6536\n",
      "Epoch 17/300\n",
      "384/384 [==============================] - 0s 529us/step - loss: 0.9711 - acc: 0.6354\n",
      "Epoch 18/300\n",
      "384/384 [==============================] - 0s 529us/step - loss: 0.8236 - acc: 0.6563\n",
      "Epoch 19/300\n",
      "384/384 [==============================] - 0s 529us/step - loss: 0.8544 - acc: 0.6953\n",
      "Epoch 20/300\n",
      "384/384 [==============================] - 0s 570us/step - loss: 0.7640 - acc: 0.6849\n",
      "Epoch 21/300\n",
      "384/384 [==============================] - 0s 570us/step - loss: 0.7995 - acc: 0.7057\n",
      "Epoch 22/300\n",
      "384/384 [==============================] - 0s 570us/step - loss: 0.7046 - acc: 0.7188\n",
      "Epoch 23/300\n",
      "384/384 [==============================] - 0s 529us/step - loss: 0.7182 - acc: 0.6953\n",
      "Epoch 24/300\n",
      "384/384 [==============================] - 0s 529us/step - loss: 0.7103 - acc: 0.7083\n",
      "Epoch 25/300\n",
      "384/384 [==============================] - 0s 570us/step - loss: 0.8286 - acc: 0.6823\n",
      "Epoch 26/300\n",
      "384/384 [==============================] - 0s 488us/step - loss: 0.7076 - acc: 0.7161\n",
      "Epoch 27/300\n",
      "384/384 [==============================] - 0s 529us/step - loss: 0.5937 - acc: 0.7578\n",
      "Epoch 28/300\n",
      "384/384 [==============================] - 0s 529us/step - loss: 0.6345 - acc: 0.7240\n",
      "Epoch 29/300\n",
      "384/384 [==============================] - 0s 529us/step - loss: 0.5510 - acc: 0.7682\n",
      "Epoch 30/300\n",
      "384/384 [==============================] - 0s 570us/step - loss: 0.5748 - acc: 0.7500\n",
      "Epoch 31/300\n",
      "384/384 [==============================] - 0s 529us/step - loss: 0.5100 - acc: 0.7891\n",
      "Epoch 32/300\n",
      "384/384 [==============================] - 0s 529us/step - loss: 0.5019 - acc: 0.7943\n",
      "Epoch 33/300\n",
      "384/384 [==============================] - 0s 570us/step - loss: 0.6290 - acc: 0.7474\n",
      "Epoch 34/300\n",
      "384/384 [==============================] - 0s 610us/step - loss: 0.4778 - acc: 0.8073\n",
      "Epoch 35/300\n",
      "384/384 [==============================] - 0s 529us/step - loss: 0.5142 - acc: 0.8047\n",
      "Epoch 36/300\n",
      "384/384 [==============================] - 0s 570us/step - loss: 0.6919 - acc: 0.7656\n",
      "Epoch 37/300\n",
      "384/384 [==============================] - 0s 570us/step - loss: 0.5480 - acc: 0.7865\n",
      "Epoch 38/300\n",
      "384/384 [==============================] - 0s 529us/step - loss: 0.5492 - acc: 0.8151\n",
      "Epoch 39/300\n",
      "384/384 [==============================] - 0s 529us/step - loss: 0.4860 - acc: 0.8359\n",
      "Epoch 40/300\n",
      "384/384 [==============================] - 0s 529us/step - loss: 0.4577 - acc: 0.8073\n",
      "Epoch 41/300\n",
      "384/384 [==============================] - 0s 570us/step - loss: 0.4303 - acc: 0.8177\n",
      "Epoch 42/300\n",
      "384/384 [==============================] - 0s 529us/step - loss: 0.6010 - acc: 0.7943\n",
      "Epoch 43/300\n",
      "384/384 [==============================] - 0s 570us/step - loss: 0.4524 - acc: 0.8177\n",
      "Epoch 44/300\n",
      "384/384 [==============================] - 0s 570us/step - loss: 0.3611 - acc: 0.8542\n",
      "Epoch 45/300\n",
      "384/384 [==============================] - 0s 570us/step - loss: 0.5424 - acc: 0.7969\n",
      "Epoch 46/300\n",
      "384/384 [==============================] - 0s 570us/step - loss: 0.3436 - acc: 0.8646\n",
      "Epoch 47/300\n",
      "384/384 [==============================] - 0s 570us/step - loss: 0.4218 - acc: 0.8203\n",
      "Epoch 48/300\n",
      "384/384 [==============================] - 0s 610us/step - loss: 0.3925 - acc: 0.8255\n",
      "Epoch 49/300\n",
      "384/384 [==============================] - 0s 529us/step - loss: 0.5111 - acc: 0.8125\n",
      "Epoch 50/300\n",
      "384/384 [==============================] - 0s 570us/step - loss: 0.4234 - acc: 0.8542\n",
      "Epoch 51/300\n",
      "384/384 [==============================] - 0s 570us/step - loss: 0.5128 - acc: 0.8177\n",
      "Epoch 52/300\n",
      "384/384 [==============================] - 0s 529us/step - loss: 0.3961 - acc: 0.8411\n",
      "Epoch 53/300\n",
      "384/384 [==============================] - 0s 529us/step - loss: 0.3919 - acc: 0.8177\n",
      "Epoch 54/300\n",
      "384/384 [==============================] - 0s 610us/step - loss: 0.3493 - acc: 0.8516\n",
      "Epoch 55/300\n",
      "384/384 [==============================] - 0s 570us/step - loss: 0.4501 - acc: 0.8307\n",
      "Epoch 56/300\n",
      "384/384 [==============================] - 0s 570us/step - loss: 0.3605 - acc: 0.8750\n",
      "Epoch 57/300\n",
      "384/384 [==============================] - 0s 570us/step - loss: 0.4330 - acc: 0.8021\n",
      "Epoch 58/300\n",
      "384/384 [==============================] - 0s 570us/step - loss: 0.4788 - acc: 0.8516\n",
      "Epoch 59/300\n",
      "384/384 [==============================] - 0s 570us/step - loss: 0.2864 - acc: 0.8698\n",
      "Epoch 60/300\n",
      "384/384 [==============================] - 0s 698us/step - loss: 0.4146 - acc: 0.8568\n",
      "Epoch 61/300\n",
      "384/384 [==============================] - 0s 570us/step - loss: 0.3752 - acc: 0.8646\n",
      "Epoch 62/300\n",
      "384/384 [==============================] - 0s 570us/step - loss: 0.3351 - acc: 0.8802\n",
      "Epoch 63/300\n",
      "384/384 [==============================] - 0s 570us/step - loss: 0.3483 - acc: 0.8750\n",
      "Epoch 64/300\n",
      "384/384 [==============================] - 0s 529us/step - loss: 0.4202 - acc: 0.8359\n",
      "Epoch 65/300\n",
      "384/384 [==============================] - 0s 570us/step - loss: 0.3712 - acc: 0.8594\n",
      "Epoch 66/300\n",
      "384/384 [==============================] - 0s 529us/step - loss: 0.3266 - acc: 0.8724\n",
      "Epoch 67/300\n",
      "384/384 [==============================] - 0s 570us/step - loss: 0.2810 - acc: 0.8698\n",
      "Epoch 68/300\n",
      "384/384 [==============================] - 0s 610us/step - loss: 0.2714 - acc: 0.8828\n",
      "Epoch 69/300\n",
      "384/384 [==============================] - 0s 570us/step - loss: 0.3318 - acc: 0.8490\n",
      "Epoch 70/300\n",
      "384/384 [==============================] - 0s 610us/step - loss: 0.3598 - acc: 0.8516\n",
      "Epoch 71/300\n",
      "384/384 [==============================] - 0s 610us/step - loss: 0.4085 - acc: 0.8724\n",
      "Epoch 72/300\n",
      "384/384 [==============================] - 0s 692us/step - loss: 0.3673 - acc: 0.8750\n",
      "Epoch 73/300\n",
      "384/384 [==============================] - 0s 570us/step - loss: 0.3642 - acc: 0.8568\n",
      "Epoch 74/300\n",
      "384/384 [==============================] - 0s 529us/step - loss: 0.3618 - acc: 0.8750\n",
      "Epoch 75/300\n",
      "384/384 [==============================] - 0s 570us/step - loss: 0.4165 - acc: 0.8333\n",
      "Epoch 76/300\n",
      "384/384 [==============================] - 0s 570us/step - loss: 0.2702 - acc: 0.8854\n",
      "Epoch 77/300\n",
      "384/384 [==============================] - 0s 529us/step - loss: 0.4079 - acc: 0.8437\n",
      "Epoch 78/300\n",
      "384/384 [==============================] - 0s 570us/step - loss: 0.2823 - acc: 0.8828\n",
      "Epoch 79/300\n",
      "384/384 [==============================] - 0s 570us/step - loss: 0.2993 - acc: 0.8828\n",
      "Epoch 80/300\n",
      "384/384 [==============================] - 0s 529us/step - loss: 0.2570 - acc: 0.8802\n",
      "Epoch 81/300\n",
      "384/384 [==============================] - 0s 570us/step - loss: 0.3291 - acc: 0.8724\n",
      "Epoch 82/300\n",
      "384/384 [==============================] - 0s 529us/step - loss: 0.3998 - acc: 0.8568\n",
      "Epoch 83/300\n"
     ]
    },
    {
     "name": "stdout",
     "output_type": "stream",
     "text": [
      "384/384 [==============================] - 0s 570us/step - loss: 0.2983 - acc: 0.8776\n",
      "Epoch 84/300\n",
      "384/384 [==============================] - 0s 529us/step - loss: 0.3320 - acc: 0.8672\n",
      "Epoch 85/300\n",
      "384/384 [==============================] - 0s 529us/step - loss: 0.2692 - acc: 0.8854\n",
      "Epoch 86/300\n",
      "384/384 [==============================] - 0s 529us/step - loss: 0.2636 - acc: 0.8620\n",
      "Epoch 87/300\n",
      "384/384 [==============================] - 0s 488us/step - loss: 0.2468 - acc: 0.8906\n",
      "Epoch 88/300\n",
      "384/384 [==============================] - 0s 529us/step - loss: 0.3008 - acc: 0.8984\n",
      "Epoch 89/300\n",
      "384/384 [==============================] - 0s 610us/step - loss: 0.2643 - acc: 0.8854\n",
      "Epoch 90/300\n",
      "384/384 [==============================] - 0s 529us/step - loss: 0.2749 - acc: 0.8880\n",
      "Epoch 91/300\n",
      "384/384 [==============================] - 0s 529us/step - loss: 0.3429 - acc: 0.8750\n",
      "Epoch 92/300\n",
      "384/384 [==============================] - 0s 529us/step - loss: 0.2670 - acc: 0.8802\n",
      "Epoch 93/300\n",
      "384/384 [==============================] - 0s 488us/step - loss: 0.2802 - acc: 0.8880\n",
      "Epoch 94/300\n",
      "384/384 [==============================] - 0s 488us/step - loss: 0.4272 - acc: 0.8776\n",
      "Epoch 95/300\n",
      "384/384 [==============================] - 0s 529us/step - loss: 0.4044 - acc: 0.8672\n",
      "Epoch 96/300\n",
      "384/384 [==============================] - 0s 529us/step - loss: 0.3577 - acc: 0.8854\n",
      "Epoch 97/300\n",
      "384/384 [==============================] - 0s 570us/step - loss: 0.2768 - acc: 0.9010\n",
      "Epoch 98/300\n",
      "384/384 [==============================] - 0s 570us/step - loss: 0.2991 - acc: 0.8802\n",
      "Epoch 99/300\n",
      "384/384 [==============================] - 0s 610us/step - loss: 0.2543 - acc: 0.9036\n",
      "Epoch 100/300\n",
      "384/384 [==============================] - 0s 529us/step - loss: 0.2554 - acc: 0.8984\n",
      "Epoch 101/300\n",
      "384/384 [==============================] - 0s 529us/step - loss: 0.4091 - acc: 0.8620\n",
      "Epoch 102/300\n",
      "384/384 [==============================] - 0s 488us/step - loss: 0.3837 - acc: 0.8620\n",
      "Epoch 103/300\n",
      "384/384 [==============================] - 0s 529us/step - loss: 0.3041 - acc: 0.8646\n",
      "Epoch 104/300\n",
      "384/384 [==============================] - 0s 529us/step - loss: 0.3537 - acc: 0.8724\n",
      "Epoch 105/300\n",
      "384/384 [==============================] - 0s 488us/step - loss: 0.3033 - acc: 0.8776\n",
      "Epoch 106/300\n",
      "384/384 [==============================] - 0s 529us/step - loss: 0.2324 - acc: 0.8854\n",
      "Epoch 107/300\n",
      "384/384 [==============================] - 0s 570us/step - loss: 0.1800 - acc: 0.9063\n",
      "Epoch 108/300\n",
      "384/384 [==============================] - 0s 529us/step - loss: 0.2453 - acc: 0.8802\n",
      "Epoch 109/300\n",
      "384/384 [==============================] - 0s 570us/step - loss: 0.2322 - acc: 0.8880\n",
      "Epoch 110/300\n",
      "384/384 [==============================] - 0s 529us/step - loss: 0.3372 - acc: 0.8620\n",
      "Epoch 111/300\n",
      "384/384 [==============================] - 0s 529us/step - loss: 0.2356 - acc: 0.8932\n",
      "Epoch 112/300\n",
      "384/384 [==============================] - 0s 529us/step - loss: 0.3579 - acc: 0.8724\n",
      "Epoch 113/300\n",
      "384/384 [==============================] - 0s 529us/step - loss: 0.2220 - acc: 0.8906\n",
      "Epoch 114/300\n",
      "384/384 [==============================] - 0s 529us/step - loss: 0.2777 - acc: 0.8802\n",
      "Epoch 115/300\n",
      "384/384 [==============================] - 0s 570us/step - loss: 0.3044 - acc: 0.8750\n",
      "Epoch 116/300\n",
      "384/384 [==============================] - 0s 570us/step - loss: 0.3004 - acc: 0.8854\n",
      "Epoch 117/300\n",
      "384/384 [==============================] - 0s 529us/step - loss: 0.2633 - acc: 0.8880\n",
      "Epoch 118/300\n",
      "384/384 [==============================] - 0s 529us/step - loss: 0.2322 - acc: 0.8880\n",
      "Epoch 119/300\n",
      "384/384 [==============================] - 0s 529us/step - loss: 0.2876 - acc: 0.8672\n",
      "Epoch 120/300\n",
      "384/384 [==============================] - 0s 488us/step - loss: 0.2164 - acc: 0.9036\n",
      "Epoch 121/300\n",
      "384/384 [==============================] - 0s 529us/step - loss: 0.1887 - acc: 0.9036\n",
      "Epoch 122/300\n",
      "384/384 [==============================] - 0s 529us/step - loss: 0.4475 - acc: 0.8255\n",
      "Epoch 123/300\n",
      "384/384 [==============================] - 0s 529us/step - loss: 0.2405 - acc: 0.8724\n",
      "Epoch 124/300\n",
      "384/384 [==============================] - 0s 529us/step - loss: 0.2435 - acc: 0.8854\n",
      "Epoch 125/300\n",
      "384/384 [==============================] - 0s 570us/step - loss: 0.2512 - acc: 0.8698\n",
      "Epoch 126/300\n",
      "384/384 [==============================] - 0s 529us/step - loss: 0.2384 - acc: 0.8828\n",
      "Epoch 127/300\n",
      "384/384 [==============================] - 0s 529us/step - loss: 0.2184 - acc: 0.8802\n",
      "Epoch 128/300\n",
      "384/384 [==============================] - 0s 529us/step - loss: 0.2707 - acc: 0.8724\n",
      "Epoch 129/300\n",
      "384/384 [==============================] - 0s 570us/step - loss: 0.2412 - acc: 0.9010\n",
      "Epoch 130/300\n",
      "384/384 [==============================] - 0s 529us/step - loss: 0.2834 - acc: 0.8750\n",
      "Epoch 131/300\n",
      "384/384 [==============================] - 0s 529us/step - loss: 0.2747 - acc: 0.9010\n",
      "Epoch 132/300\n",
      "384/384 [==============================] - 0s 529us/step - loss: 0.2105 - acc: 0.8932\n",
      "Epoch 133/300\n",
      "384/384 [==============================] - 0s 529us/step - loss: 0.2572 - acc: 0.8984\n",
      "Epoch 134/300\n",
      "384/384 [==============================] - 0s 488us/step - loss: 0.2001 - acc: 0.8854\n",
      "Epoch 135/300\n",
      "384/384 [==============================] - 0s 529us/step - loss: 0.2479 - acc: 0.9062\n",
      "Epoch 136/300\n",
      "384/384 [==============================] - 0s 529us/step - loss: 0.1885 - acc: 0.8958\n",
      "Epoch 137/300\n",
      "384/384 [==============================] - 0s 488us/step - loss: 0.3709 - acc: 0.8646\n",
      "Epoch 138/300\n",
      "384/384 [==============================] - 0s 529us/step - loss: 0.2515 - acc: 0.8854\n",
      "Epoch 139/300\n",
      "384/384 [==============================] - 0s 529us/step - loss: 0.2545 - acc: 0.9167\n",
      "Epoch 140/300\n",
      "384/384 [==============================] - 0s 488us/step - loss: 0.2308 - acc: 0.8932\n",
      "Epoch 141/300\n",
      "384/384 [==============================] - 0s 529us/step - loss: 0.2576 - acc: 0.8906\n",
      "Epoch 142/300\n",
      "384/384 [==============================] - 0s 529us/step - loss: 0.2979 - acc: 0.8646\n",
      "Epoch 143/300\n",
      "384/384 [==============================] - 0s 529us/step - loss: 0.1844 - acc: 0.9089\n",
      "Epoch 144/300\n",
      "384/384 [==============================] - 0s 529us/step - loss: 0.1827 - acc: 0.9141\n",
      "Epoch 145/300\n",
      "384/384 [==============================] - 0s 488us/step - loss: 0.2725 - acc: 0.8958\n",
      "Epoch 146/300\n",
      "384/384 [==============================] - 0s 529us/step - loss: 0.3253 - acc: 0.8906\n",
      "Epoch 147/300\n",
      "384/384 [==============================] - 0s 529us/step - loss: 0.4607 - acc: 0.8490\n",
      "Epoch 148/300\n",
      "384/384 [==============================] - 0s 529us/step - loss: 0.1908 - acc: 0.9010\n",
      "Epoch 149/300\n",
      "384/384 [==============================] - 0s 529us/step - loss: 0.1779 - acc: 0.8984\n",
      "Epoch 150/300\n",
      "384/384 [==============================] - 0s 529us/step - loss: 0.3297 - acc: 0.8776\n",
      "Epoch 151/300\n",
      "384/384 [==============================] - 0s 488us/step - loss: 0.3394 - acc: 0.8906\n",
      "Epoch 152/300\n",
      "384/384 [==============================] - 0s 529us/step - loss: 0.3765 - acc: 0.8854\n",
      "Epoch 153/300\n",
      "384/384 [==============================] - 0s 570us/step - loss: 0.2676 - acc: 0.9063\n",
      "Epoch 154/300\n",
      "384/384 [==============================] - 0s 529us/step - loss: 0.2608 - acc: 0.8880\n",
      "Epoch 155/300\n",
      "384/384 [==============================] - 0s 529us/step - loss: 0.1954 - acc: 0.9271\n",
      "Epoch 156/300\n",
      "384/384 [==============================] - 0s 529us/step - loss: 0.4881 - acc: 0.8698\n",
      "Epoch 157/300\n",
      "384/384 [==============================] - 0s 529us/step - loss: 0.1979 - acc: 0.8984\n",
      "Epoch 158/300\n",
      "384/384 [==============================] - 0s 529us/step - loss: 0.1798 - acc: 0.9062\n",
      "Epoch 159/300\n",
      "384/384 [==============================] - 0s 488us/step - loss: 0.2617 - acc: 0.8828\n",
      "Epoch 160/300\n",
      "384/384 [==============================] - 0s 529us/step - loss: 0.2410 - acc: 0.9089\n",
      "Epoch 161/300\n",
      "384/384 [==============================] - 0s 529us/step - loss: 0.2234 - acc: 0.8880\n",
      "Epoch 162/300\n",
      "384/384 [==============================] - 0s 570us/step - loss: 0.2280 - acc: 0.8880\n",
      "Epoch 163/300\n",
      "384/384 [==============================] - 0s 529us/step - loss: 0.2952 - acc: 0.8828\n",
      "Epoch 164/300\n",
      "384/384 [==============================] - 0s 610us/step - loss: 0.2097 - acc: 0.8828\n",
      "Epoch 165/300\n"
     ]
    },
    {
     "name": "stdout",
     "output_type": "stream",
     "text": [
      "384/384 [==============================] - 0s 610us/step - loss: 0.3680 - acc: 0.8828\n",
      "Epoch 166/300\n",
      "384/384 [==============================] - 0s 529us/step - loss: 0.2993 - acc: 0.9010\n",
      "Epoch 167/300\n",
      "384/384 [==============================] - 0s 570us/step - loss: 0.3111 - acc: 0.8880\n",
      "Epoch 168/300\n",
      "384/384 [==============================] - 0s 529us/step - loss: 0.3411 - acc: 0.8880\n",
      "Epoch 169/300\n",
      "384/384 [==============================] - 0s 529us/step - loss: 0.2130 - acc: 0.9297\n",
      "Epoch 170/300\n",
      "384/384 [==============================] - 0s 529us/step - loss: 0.2578 - acc: 0.8854\n",
      "Epoch 171/300\n",
      "384/384 [==============================] - 0s 529us/step - loss: 0.3288 - acc: 0.8932\n",
      "Epoch 172/300\n",
      "384/384 [==============================] - 0s 529us/step - loss: 0.2457 - acc: 0.9062\n",
      "Epoch 173/300\n",
      "384/384 [==============================] - 0s 529us/step - loss: 0.2509 - acc: 0.8958\n",
      "Epoch 174/300\n",
      "384/384 [==============================] - 0s 529us/step - loss: 0.1963 - acc: 0.9010\n",
      "Epoch 175/300\n",
      "384/384 [==============================] - 0s 529us/step - loss: 0.3179 - acc: 0.8906\n",
      "Epoch 176/300\n",
      "384/384 [==============================] - 0s 488us/step - loss: 0.2593 - acc: 0.8802\n",
      "Epoch 177/300\n",
      "384/384 [==============================] - 0s 555us/step - loss: 0.2084 - acc: 0.9115\n",
      "Epoch 178/300\n",
      "384/384 [==============================] - 0s 692us/step - loss: 0.2363 - acc: 0.8906\n",
      "Epoch 179/300\n",
      "384/384 [==============================] - 0s 529us/step - loss: 0.2479 - acc: 0.8828\n",
      "Epoch 180/300\n",
      "384/384 [==============================] - 0s 537us/step - loss: 0.2357 - acc: 0.8958\n",
      "Epoch 181/300\n",
      "384/384 [==============================] - 0s 517us/step - loss: 0.2331 - acc: 0.8854\n",
      "Epoch 182/300\n",
      "384/384 [==============================] - 0s 570us/step - loss: 0.2647 - acc: 0.8854\n",
      "Epoch 183/300\n",
      "384/384 [==============================] - 0s 488us/step - loss: 0.2589 - acc: 0.8854\n",
      "Epoch 184/300\n",
      "384/384 [==============================] - 0s 529us/step - loss: 0.2520 - acc: 0.8854\n",
      "Epoch 185/300\n",
      "384/384 [==============================] - 0s 570us/step - loss: 0.2362 - acc: 0.8906\n",
      "Epoch 186/300\n",
      "384/384 [==============================] - 0s 570us/step - loss: 0.1725 - acc: 0.9062\n",
      "Epoch 187/300\n",
      "384/384 [==============================] - 0s 529us/step - loss: 0.2027 - acc: 0.8958\n",
      "Epoch 188/300\n",
      "384/384 [==============================] - 0s 529us/step - loss: 0.3020 - acc: 0.8750\n",
      "Epoch 189/300\n",
      "384/384 [==============================] - 0s 529us/step - loss: 0.1978 - acc: 0.8906\n",
      "Epoch 190/300\n",
      "384/384 [==============================] - 0s 488us/step - loss: 0.2196 - acc: 0.8932\n",
      "Epoch 191/300\n",
      "384/384 [==============================] - 0s 529us/step - loss: 0.2052 - acc: 0.9089\n",
      "Epoch 192/300\n",
      "384/384 [==============================] - 0s 529us/step - loss: 0.4358 - acc: 0.8542\n",
      "Epoch 193/300\n",
      "384/384 [==============================] - 0s 488us/step - loss: 0.2737 - acc: 0.9115\n",
      "Epoch 194/300\n",
      "384/384 [==============================] - 0s 488us/step - loss: 0.2230 - acc: 0.9193\n",
      "Epoch 195/300\n",
      "384/384 [==============================] - 0s 570us/step - loss: 0.2905 - acc: 0.9089\n",
      "Epoch 196/300\n",
      "384/384 [==============================] - 0s 529us/step - loss: 0.1835 - acc: 0.8932\n",
      "Epoch 197/300\n",
      "384/384 [==============================] - 0s 529us/step - loss: 0.2927 - acc: 0.8620\n",
      "Epoch 198/300\n",
      "384/384 [==============================] - 0s 570us/step - loss: 0.2340 - acc: 0.8958\n",
      "Epoch 199/300\n",
      "384/384 [==============================] - 0s 529us/step - loss: 0.2381 - acc: 0.8880\n",
      "Epoch 200/300\n",
      "384/384 [==============================] - 0s 529us/step - loss: 0.2493 - acc: 0.8802\n",
      "Epoch 201/300\n",
      "384/384 [==============================] - 0s 529us/step - loss: 0.2752 - acc: 0.8984\n",
      "Epoch 202/300\n",
      "384/384 [==============================] - 0s 529us/step - loss: 0.3080 - acc: 0.8880\n",
      "Epoch 203/300\n",
      "384/384 [==============================] - 0s 529us/step - loss: 0.3135 - acc: 0.8854\n",
      "Epoch 204/300\n",
      "384/384 [==============================] - 0s 570us/step - loss: 0.2293 - acc: 0.8880\n",
      "Epoch 205/300\n",
      "384/384 [==============================] - 0s 529us/step - loss: 0.1920 - acc: 0.9115\n",
      "Epoch 206/300\n",
      "384/384 [==============================] - 0s 529us/step - loss: 0.2271 - acc: 0.9089\n",
      "Epoch 207/300\n",
      "384/384 [==============================] - 0s 529us/step - loss: 0.2131 - acc: 0.9167\n",
      "Epoch 208/300\n",
      "384/384 [==============================] - 0s 529us/step - loss: 0.2362 - acc: 0.8906\n",
      "Epoch 209/300\n",
      "384/384 [==============================] - 0s 529us/step - loss: 0.2594 - acc: 0.8932\n",
      "Epoch 210/300\n",
      "384/384 [==============================] - 0s 529us/step - loss: 0.2415 - acc: 0.9036\n",
      "Epoch 211/300\n",
      "384/384 [==============================] - 0s 529us/step - loss: 0.2988 - acc: 0.8880\n",
      "Epoch 212/300\n",
      "384/384 [==============================] - 0s 529us/step - loss: 0.2317 - acc: 0.8984\n",
      "Epoch 213/300\n",
      "384/384 [==============================] - 0s 529us/step - loss: 0.2220 - acc: 0.9010\n",
      "Epoch 214/300\n",
      "384/384 [==============================] - 0s 529us/step - loss: 0.2150 - acc: 0.8880\n",
      "Epoch 215/300\n",
      "384/384 [==============================] - 0s 529us/step - loss: 0.1870 - acc: 0.9062\n",
      "Epoch 216/300\n",
      "384/384 [==============================] - 0s 529us/step - loss: 0.2018 - acc: 0.8880\n",
      "Epoch 217/300\n",
      "384/384 [==============================] - 0s 529us/step - loss: 0.2121 - acc: 0.8958\n",
      "Epoch 218/300\n",
      "384/384 [==============================] - 0s 570us/step - loss: 0.2420 - acc: 0.9036\n",
      "Epoch 219/300\n",
      "384/384 [==============================] - 0s 529us/step - loss: 0.2075 - acc: 0.9219\n",
      "Epoch 220/300\n",
      "384/384 [==============================] - 0s 529us/step - loss: 0.3544 - acc: 0.8854\n",
      "Epoch 221/300\n",
      "384/384 [==============================] - 0s 570us/step - loss: 0.2401 - acc: 0.9141\n",
      "Epoch 222/300\n",
      "384/384 [==============================] - 0s 570us/step - loss: 0.3225 - acc: 0.8906\n",
      "Epoch 223/300\n",
      "384/384 [==============================] - 0s 488us/step - loss: 0.2606 - acc: 0.8958\n",
      "Epoch 224/300\n",
      "384/384 [==============================] - 0s 529us/step - loss: 0.3055 - acc: 0.8958\n",
      "Epoch 225/300\n",
      "384/384 [==============================] - 0s 610us/step - loss: 0.3614 - acc: 0.8906\n",
      "Epoch 226/300\n",
      "384/384 [==============================] - 0s 529us/step - loss: 0.2686 - acc: 0.8880\n",
      "Epoch 227/300\n",
      "384/384 [==============================] - 0s 529us/step - loss: 0.2523 - acc: 0.8984\n",
      "Epoch 228/300\n",
      "384/384 [==============================] - 0s 488us/step - loss: 0.1807 - acc: 0.9010\n",
      "Epoch 229/300\n",
      "384/384 [==============================] - 0s 529us/step - loss: 0.2509 - acc: 0.8854\n",
      "Epoch 230/300\n",
      "384/384 [==============================] - 0s 529us/step - loss: 0.2443 - acc: 0.8906\n",
      "Epoch 231/300\n",
      "384/384 [==============================] - 0s 529us/step - loss: 0.2358 - acc: 0.8906\n",
      "Epoch 232/300\n",
      "384/384 [==============================] - 0s 570us/step - loss: 0.2367 - acc: 0.8802\n",
      "Epoch 233/300\n",
      "384/384 [==============================] - 0s 529us/step - loss: 0.1699 - acc: 0.9089\n",
      "Epoch 234/300\n",
      "384/384 [==============================] - 0s 529us/step - loss: 0.2117 - acc: 0.8984\n",
      "Epoch 235/300\n",
      "384/384 [==============================] - 0s 529us/step - loss: 0.2218 - acc: 0.9010\n",
      "Epoch 236/300\n",
      "384/384 [==============================] - 0s 529us/step - loss: 0.2410 - acc: 0.8854\n",
      "Epoch 237/300\n",
      "384/384 [==============================] - 0s 529us/step - loss: 0.2570 - acc: 0.8958 0s - loss: 0.2375 - acc: 0.88\n",
      "Epoch 238/300\n",
      "384/384 [==============================] - 0s 529us/step - loss: 0.2061 - acc: 0.9010\n",
      "Epoch 239/300\n",
      "384/384 [==============================] - 0s 529us/step - loss: 0.1931 - acc: 0.9089\n",
      "Epoch 240/300\n",
      "384/384 [==============================] - 0s 488us/step - loss: 0.1699 - acc: 0.9115\n",
      "Epoch 241/300\n",
      "384/384 [==============================] - 0s 488us/step - loss: 0.2055 - acc: 0.9297\n",
      "Epoch 242/300\n",
      "384/384 [==============================] - 0s 529us/step - loss: 0.2869 - acc: 0.9036\n",
      "Epoch 243/300\n",
      "384/384 [==============================] - 0s 488us/step - loss: 0.1859 - acc: 0.9271\n",
      "Epoch 244/300\n",
      "384/384 [==============================] - 0s 529us/step - loss: 0.4295 - acc: 0.8906\n",
      "Epoch 245/300\n",
      "384/384 [==============================] - 0s 488us/step - loss: 0.3273 - acc: 0.8698\n",
      "Epoch 246/300\n"
     ]
    },
    {
     "name": "stdout",
     "output_type": "stream",
     "text": [
      "384/384 [==============================] - 0s 488us/step - loss: 0.4098 - acc: 0.8932\n",
      "Epoch 247/300\n",
      "384/384 [==============================] - 0s 488us/step - loss: 0.3068 - acc: 0.8932\n",
      "Epoch 248/300\n",
      "384/384 [==============================] - 0s 488us/step - loss: 0.2598 - acc: 0.8984\n",
      "Epoch 249/300\n",
      "384/384 [==============================] - 0s 488us/step - loss: 0.2820 - acc: 0.8880\n",
      "Epoch 250/300\n",
      "384/384 [==============================] - 0s 488us/step - loss: 0.2743 - acc: 0.8724\n",
      "Epoch 251/300\n",
      "384/384 [==============================] - 0s 529us/step - loss: 0.3045 - acc: 0.8906\n",
      "Epoch 252/300\n",
      "384/384 [==============================] - 0s 488us/step - loss: 0.3163 - acc: 0.8802\n",
      "Epoch 253/300\n",
      "384/384 [==============================] - 0s 488us/step - loss: 0.2125 - acc: 0.8932\n",
      "Epoch 254/300\n",
      "384/384 [==============================] - 0s 488us/step - loss: 0.2009 - acc: 0.9115\n",
      "Epoch 255/300\n",
      "384/384 [==============================] - 0s 488us/step - loss: 0.2267 - acc: 0.9036\n",
      "Epoch 256/300\n",
      "384/384 [==============================] - 0s 529us/step - loss: 0.2685 - acc: 0.8750\n",
      "Epoch 257/300\n",
      "384/384 [==============================] - 0s 488us/step - loss: 0.2440 - acc: 0.8984\n",
      "Epoch 258/300\n",
      "384/384 [==============================] - 0s 529us/step - loss: 0.2387 - acc: 0.8880\n",
      "Epoch 259/300\n",
      "384/384 [==============================] - 0s 488us/step - loss: 0.2148 - acc: 0.9062\n",
      "Epoch 260/300\n",
      "384/384 [==============================] - 0s 529us/step - loss: 0.2480 - acc: 0.8932\n",
      "Epoch 261/300\n",
      "384/384 [==============================] - 0s 488us/step - loss: 0.2929 - acc: 0.8958\n",
      "Epoch 262/300\n",
      "384/384 [==============================] - ETA: 0s - loss: 0.1898 - acc: 0.920 - 0s 488us/step - loss: 0.1782 - acc: 0.9245\n",
      "Epoch 263/300\n",
      "384/384 [==============================] - 0s 488us/step - loss: 0.2086 - acc: 0.9036\n",
      "Epoch 264/300\n",
      "384/384 [==============================] - 0s 488us/step - loss: 0.2371 - acc: 0.9141\n",
      "Epoch 265/300\n",
      "384/384 [==============================] - 0s 488us/step - loss: 0.2167 - acc: 0.9010\n",
      "Epoch 266/300\n",
      "384/384 [==============================] - 0s 488us/step - loss: 0.1823 - acc: 0.9089\n",
      "Epoch 267/300\n",
      "384/384 [==============================] - 0s 488us/step - loss: 0.2372 - acc: 0.8984\n",
      "Epoch 268/300\n",
      "384/384 [==============================] - 0s 488us/step - loss: 0.2448 - acc: 0.8984\n",
      "Epoch 269/300\n",
      "384/384 [==============================] - 0s 488us/step - loss: 0.2528 - acc: 0.8854\n",
      "Epoch 270/300\n",
      "384/384 [==============================] - 0s 488us/step - loss: 0.2189 - acc: 0.9036\n",
      "Epoch 271/300\n",
      "384/384 [==============================] - 0s 488us/step - loss: 0.3722 - acc: 0.8932\n",
      "Epoch 272/300\n",
      "384/384 [==============================] - 0s 448us/step - loss: 0.2946 - acc: 0.9115\n",
      "Epoch 273/300\n",
      "384/384 [==============================] - 0s 488us/step - loss: 0.3162 - acc: 0.8776\n",
      "Epoch 274/300\n",
      "384/384 [==============================] - 0s 529us/step - loss: 0.2612 - acc: 0.8880\n",
      "Epoch 275/300\n",
      "384/384 [==============================] - 0s 488us/step - loss: 0.2594 - acc: 0.9141\n",
      "Epoch 276/300\n",
      "384/384 [==============================] - 0s 488us/step - loss: 0.3875 - acc: 0.8776\n",
      "Epoch 277/300\n",
      "384/384 [==============================] - 0s 488us/step - loss: 0.2935 - acc: 0.9062\n",
      "Epoch 278/300\n",
      "384/384 [==============================] - 0s 529us/step - loss: 0.3006 - acc: 0.9089\n",
      "Epoch 279/300\n",
      "384/384 [==============================] - 0s 529us/step - loss: 0.2523 - acc: 0.8906\n",
      "Epoch 280/300\n",
      "384/384 [==============================] - 0s 488us/step - loss: 0.2355 - acc: 0.8802\n",
      "Epoch 281/300\n",
      "384/384 [==============================] - 0s 488us/step - loss: 0.2183 - acc: 0.8906\n",
      "Epoch 282/300\n",
      "384/384 [==============================] - 0s 488us/step - loss: 0.2008 - acc: 0.9062 0s - loss: 0.2075 - acc: 0.902\n",
      "Epoch 283/300\n",
      "384/384 [==============================] - 0s 488us/step - loss: 0.1712 - acc: 0.8932\n",
      "Epoch 284/300\n",
      "384/384 [==============================] - 0s 488us/step - loss: 0.1913 - acc: 0.8828\n",
      "Epoch 285/300\n",
      "384/384 [==============================] - 0s 488us/step - loss: 0.1933 - acc: 0.9089\n",
      "Epoch 286/300\n",
      "384/384 [==============================] - 0s 529us/step - loss: 0.2273 - acc: 0.9036\n",
      "Epoch 287/300\n",
      "384/384 [==============================] - 0s 488us/step - loss: 0.2007 - acc: 0.8932\n",
      "Epoch 288/300\n",
      "384/384 [==============================] - 0s 488us/step - loss: 0.3415 - acc: 0.8776\n",
      "Epoch 289/300\n",
      "384/384 [==============================] - 0s 448us/step - loss: 0.3498 - acc: 0.8880\n",
      "Epoch 290/300\n",
      "384/384 [==============================] - 0s 529us/step - loss: 0.3964 - acc: 0.8776\n",
      "Epoch 291/300\n",
      "384/384 [==============================] - 0s 488us/step - loss: 0.2499 - acc: 0.8984\n",
      "Epoch 292/300\n",
      "384/384 [==============================] - 0s 488us/step - loss: 0.1934 - acc: 0.8932\n",
      "Epoch 293/300\n",
      "384/384 [==============================] - 0s 488us/step - loss: 0.2635 - acc: 0.8828\n",
      "Epoch 294/300\n",
      "384/384 [==============================] - 0s 529us/step - loss: 0.1886 - acc: 0.8880 0s - loss: 0.1910 - acc: 0.888\n",
      "Epoch 295/300\n",
      "384/384 [==============================] - 0s 488us/step - loss: 0.2101 - acc: 0.8880\n",
      "Epoch 296/300\n",
      "384/384 [==============================] - 0s 529us/step - loss: 0.2159 - acc: 0.8828\n",
      "Epoch 297/300\n",
      "384/384 [==============================] - 0s 488us/step - loss: 0.2039 - acc: 0.8984\n",
      "Epoch 298/300\n",
      "384/384 [==============================] - 0s 529us/step - loss: 0.1627 - acc: 0.9115\n",
      "Epoch 299/300\n",
      "384/384 [==============================] - 0s 488us/step - loss: 0.2483 - acc: 0.9115\n",
      "Epoch 300/300\n",
      "384/384 [==============================] - 0s 488us/step - loss: 0.2307 - acc: 0.8880\n"
     ]
    }
   ],
   "source": [
    "history = model.fit(train2_xx, dummy_class_train, batch_size=batch_size, epochs=epochs, verbose=1)#, validation_data=(fold5,dummy_class_test))"
   ]
  },
  {
   "cell_type": "code",
   "execution_count": 49,
   "metadata": {},
   "outputs": [
    {
     "name": "stdout",
     "output_type": "stream",
     "text": [
      "[2.1078545252482095, 0.70833333333333337]\n"
     ]
    }
   ],
   "source": [
    "print(model.evaluate(foldf,dummy_class_test, verbose=0))"
   ]
  },
  {
   "cell_type": "code",
   "execution_count": null,
   "metadata": {
    "collapsed": true
   },
   "outputs": [],
   "source": []
  }
 ],
 "metadata": {
  "kernelspec": {
   "display_name": "Python 3",
   "language": "python",
   "name": "python3"
  },
  "language_info": {
   "codemirror_mode": {
    "name": "ipython",
    "version": 3
   },
   "file_extension": ".py",
   "mimetype": "text/x-python",
   "name": "python",
   "nbconvert_exporter": "python",
   "pygments_lexer": "ipython3",
   "version": "3.6.3"
  }
 },
 "nbformat": 4,
 "nbformat_minor": 2
}
