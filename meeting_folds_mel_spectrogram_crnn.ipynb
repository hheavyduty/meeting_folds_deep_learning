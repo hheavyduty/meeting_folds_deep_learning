{
 "cells": [
  {
   "cell_type": "code",
   "execution_count": 1,
   "metadata": {},
   "outputs": [
    {
     "name": "stderr",
     "output_type": "stream",
     "text": [
      "Using TensorFlow backend.\n"
     ]
    },
    {
     "name": "stdout",
     "output_type": "stream",
     "text": [
      "5\n"
     ]
    }
   ],
   "source": [
    "from os import listdir\n",
    "import os\n",
    "import keras\n",
    "from os.path import isfile, join\n",
    "import librosa\n",
    "import numpy as np\n",
    "from keras.models import Sequential\n",
    "from keras.layers import Dense,Flatten,Conv2D,MaxPooling2D,Dropout,LSTM,Reshape\n",
    "import pandas as pd\n",
    "#data_class=np.loadtxt(r\"C:\\Users\\USER\\Desktop\\labels.txt\",delimiter=',')\n",
    "from sklearn.preprocessing import LabelEncoder,OneHotEncoder\n",
    "from keras.utils import np_utils   \n",
    "import logging\n",
    "from keras.regularizers import l2\n",
    "from keras import backend as K\n",
    "from keras.layers.normalization import BatchNormalization\n",
    "#K.set_image_dim_ordering('th')\n",
    "\n",
    "print(5)"
   ]
  },
  {
   "cell_type": "code",
   "execution_count": 2,
   "metadata": {},
   "outputs": [
    {
     "name": "stdout",
     "output_type": "stream",
     "text": [
      "5\n"
     ]
    }
   ],
   "source": [
    "def _extract_segments(clip, filename):\n",
    "    #clip, filename = args\n",
    "\n",
    "    # Due to an off-by-one bug which has not been caught earlier,\n",
    "    # actually both variants (long and short) use the same\n",
    "    # overlap setting (half of window size) - whereas different settings\n",
    "    # were mentioned in the paper.\n",
    "    #\n",
    "    # The code below has been already cleaned up to reflect those changes.\n",
    "    #\n",
    "    # Apart from that, for reproducibility purposes it is required that\n",
    "    # librosa v0.3.1 is used, as further versions drastically change\n",
    "    # the delta computations.\n",
    "    \n",
    "    FRAMES_PER_SEGMENT = 6  # 41 frames ~= 950 ms segment length @ 22050 Hz\n",
    "    WINDOW_SIZE = 512 * 6   # 23 ms per frame @ 22050 Hz\n",
    "    STEP_SIZE = 512 * 6// 2\n",
    "    BANDS = 60\n",
    "    #sum=np.zeros(60,41)\n",
    "    \n",
    "    s = 0\n",
    "    segments1 = []\n",
    "    segments2=[]\n",
    "    logspec=[]\n",
    "    logspec=np.array(logspec)\n",
    "\n",
    "    normalization_factor = 1 / np.max(np.abs(clip)) \n",
    "    clip = clip * normalization_factor\n",
    "\n",
    "    while len(clip[s * STEP_SIZE:s * STEP_SIZE + WINDOW_SIZE]) == WINDOW_SIZE:\n",
    "        signal = clip[s * STEP_SIZE:s * STEP_SIZE + WINDOW_SIZE]\n",
    "\n",
    "        melspec = librosa.feature.melspectrogram(signal, sr=22050, n_fft=1024, hop_length=512, n_mels=BANDS)\n",
    "        #logspec = librosa.logamplitude(melspec)\n",
    "\n",
    "        delta=librosa.feature.delta(melspec,mode='nearest')\n",
    "        #melspec = melspec.T.flatten()[:, np.newaxis].T\n",
    "        #melspec = pd.DataFrame(data=melspec, dtype='float32', index=[0], columns=list('logspec_b{}_f{}'.format(i % BANDS, i / BANDS) for i in range(np.shape(logspec)[1])))\n",
    "\n",
    "        #if np.mean(logspec.as_matrix()) > -70.0:   # drop silent frames\n",
    "        #segment_meta = pd.DataFrame({'filename': filename,\n",
    "                                        #'s_begin': s * STEP_SIZE, 's_end': s * STEP_SIZE + WINDOW_SIZE,}, index=[0])\n",
    "        #segments.append(pd.concat((segment_meta, logspec), axis=1))\n",
    "        segments1.append(melspec)\n",
    "        segments2.append(delta)\n",
    "        s = s + 1\n",
    "    #for i in range(s-1):\n",
    "        #sum=sum+segments(i,:,:)\n",
    "    #segments=sum/s-1\n",
    "    segments1=np.mean(segments1,axis=0) \n",
    "    segments2=np.mean(segments2,axis=0)\n",
    "\n",
    "    #segments = pd.concat(segments, ignore_index=True)\n",
    "    #libc.malloc_trim(0)\n",
    "    return segments1,segments2\n",
    "print(5)"
   ]
  },
  {
   "cell_type": "code",
   "execution_count": 3,
   "metadata": {
    "collapsed": true
   },
   "outputs": [],
   "source": [
    "dataclass=[]\n",
    "dataclass1=[]\n",
    "dataclass2=[]\n",
    "dataclass3=[]\n",
    "dataclass4=[]\n",
    "dataclass5=[]\n",
    "fold1=[]\n",
    "fold2=[]\n",
    "fold3=[]\n",
    "fold4=[]\n",
    "fold5=[]\n",
    "fold11=[]\n",
    "fold22=[]\n",
    "fold33=[]\n",
    "fold44=[]\n",
    "fold55=[]\n"
   ]
  },
  {
   "cell_type": "code",
   "execution_count": 4,
   "metadata": {
    "collapsed": true
   },
   "outputs": [],
   "source": [
    "def extract_features1(onlyfiles,cls,x):\n",
    "    \n",
    "    raw_sounds = []\n",
    "    raw=[]\n",
    "    for i in range(len(onlyfiles)):\n",
    "        X,sr=librosa.load( os.path.join(r\"C:\\internship\\meeting-folds\",os.path.join(cls,onlyfiles[i])))\n",
    "        #me2 = np.mean(librosa.feature.melspectrogram(y=X2, sr=sr2, n_mels=40).T,axis=0)\n",
    "        me,ne=_extract_segments(X,onlyfiles[i])\n",
    "        #me2=librosa.feature.melspectrogram(y=X2, sr=sr2, n_mels=60,n_fft=1024,hop_length=512)\n",
    "        raw.append(ne)\n",
    "        #print(me2.shape)\n",
    "        raw_sounds.append(me)\n",
    "        dataclass.append(2)\n",
    "    raw_sounds=np.array(raw_sounds)\n",
    "    raw=np.array(raw)\n",
    "    \n",
    "    \n",
    "    for i in range(len(onlyfiles)):\n",
    "        if(onlyfiles[i][3]=='1'):\n",
    "            fold1.append(raw_sounds[i])\n",
    "            fold11.append(raw[i])\n",
    "            dataclass1.append(x)\n",
    "        elif(onlyfiles[i][3]=='2'):\n",
    "            fold2.append(raw_sounds[i])\n",
    "            fold22.append(raw[i])\n",
    "            dataclass2.append(x)\n",
    "        elif(onlyfiles[i][3]=='3'):\n",
    "            fold3.append(raw_sounds[i])\n",
    "            fold33.append(raw[i])\n",
    "            dataclass3.append(x)\n",
    "        elif(onlyfiles[i][3]=='4'):\n",
    "            fold4.append(raw_sounds[i])\n",
    "            fold44.append(raw[i])\n",
    "            dataclass4.append(x)\n",
    "        elif(onlyfiles[i][3]=='5'):\n",
    "            fold5.append(raw_sounds[i])\n",
    "            fold55.append(raw[i])\n",
    "            dataclass5.append(x)\n",
    "    return raw_sounds,raw"
   ]
  },
  {
   "cell_type": "code",
   "execution_count": 5,
   "metadata": {},
   "outputs": [
    {
     "name": "stdout",
     "output_type": "stream",
     "text": [
      "(40, 60, 7)\n",
      "(40, 60, 7)\n"
     ]
    }
   ],
   "source": [
    "onlyfiles1 = [f for f in listdir(r\"C:\\internship\\meeting-folds\\ap\")if isfile(join(r\"C:\\internship\\meeting-folds\\ap\", f))]\n",
    "raw_sounds1=[]\n",
    "raw1=[]\n",
    "raw_sounds1,raw1=extract_features1(onlyfiles1,r\"ap\",1)\n",
    "print(raw_sounds1.shape)\n",
    "print(raw1.shape)   "
   ]
  },
  {
   "cell_type": "code",
   "execution_count": 6,
   "metadata": {},
   "outputs": [
    {
     "name": "stdout",
     "output_type": "stream",
     "text": [
      "(40, 60, 7)\n",
      "(40, 60, 7)\n"
     ]
    }
   ],
   "source": [
    "onlyfiles2 = [f for f in listdir(r\"C:\\internship\\meeting-folds\\cl\") if isfile(join(r\"C:\\internship\\meeting-folds\\cl\", f))]\n",
    "raw_sounds2 = []\n",
    "raw1=[]\n",
    "raw_sounds2,raw2=extract_features1(onlyfiles2,r\"cl\",2)\n",
    "print(raw_sounds2.shape)\n",
    "print(raw2.shape)"
   ]
  },
  {
   "cell_type": "code",
   "execution_count": 7,
   "metadata": {},
   "outputs": [
    {
     "name": "stdout",
     "output_type": "stream",
     "text": [
      "(40, 60, 7)\n",
      "(40, 60, 7)\n"
     ]
    }
   ],
   "source": [
    "onlyfiles3 = [f for f in listdir(r\"C:\\internship\\meeting-folds\\cm\") if isfile(join(r\"C:\\internship\\meeting-folds\\cm\", f))]\n",
    "raw_sounds3= []\n",
    "raw_3=[]\n",
    "raw_sounds3,raw3=extract_features1(onlyfiles3,r\"cm\",3)\n",
    "print(raw_sounds3.shape)\n",
    "print(raw3.shape)"
   ]
  },
  {
   "cell_type": "code",
   "execution_count": 8,
   "metadata": {},
   "outputs": [
    {
     "name": "stdout",
     "output_type": "stream",
     "text": [
      "(40, 60, 7)\n",
      "(40, 60, 7)\n"
     ]
    }
   ],
   "source": [
    "onlyfiles4 = [f for f in listdir(r\"C:\\internship\\meeting-folds\\co\") if isfile(join(r\"C:\\internship\\meeting-folds\\co\", f))]\n",
    "raw_sounds4= []\n",
    "raw_4=[]\n",
    "raw_sounds4,raw4=extract_features1(onlyfiles4,r\"co\",4)\n",
    "print(raw_sounds4.shape)\n",
    "print(raw4.shape)"
   ]
  },
  {
   "cell_type": "code",
   "execution_count": 9,
   "metadata": {},
   "outputs": [
    {
     "name": "stdout",
     "output_type": "stream",
     "text": [
      "(40, 60, 7)\n",
      "(40, 60, 7)\n"
     ]
    }
   ],
   "source": [
    "onlyfiles5 = [f for f in listdir(r\"C:\\internship\\meeting-folds\\ds\") if isfile(join(r\"C:\\internship\\meeting-folds\\ds\", f))]\n",
    "raw_sounds5= []\n",
    "raw_5=[]\n",
    "raw_sounds5,raw5=extract_features1(onlyfiles5,r\"ap\",5)\n",
    "print(raw_sounds5.shape)\n",
    "print(raw5.shape)\n"
   ]
  },
  {
   "cell_type": "code",
   "execution_count": 10,
   "metadata": {},
   "outputs": [
    {
     "name": "stdout",
     "output_type": "stream",
     "text": [
      "(40, 60, 7)\n",
      "(40, 60, 7)\n"
     ]
    }
   ],
   "source": [
    "onlyfiles6 = [f for f in listdir(r\"C:\\internship\\meeting-folds\\fst\") if isfile(join(r\"C:\\internship\\meeting-folds\\fst\", f))]\n",
    "raw_sounds6= []\n",
    "raw_6=[]\n",
    "raw_sounds6,raw6=extract_features1(onlyfiles6,r\"fst\",6)\n",
    "print(raw_sounds6.shape)\n",
    "print(raw6.shape)\n",
    "\n"
   ]
  },
  {
   "cell_type": "code",
   "execution_count": 11,
   "metadata": {},
   "outputs": [
    {
     "name": "stdout",
     "output_type": "stream",
     "text": [
      "(40, 60, 7)\n",
      "(40, 60, 7)\n"
     ]
    }
   ],
   "source": [
    "onlyfiles7 = [f for f in listdir(r\"C:\\internship\\meeting-folds\\kj\") if isfile(join(r\"C:\\internship\\meeting-folds\\kj\", f))]\n",
    "raw_sounds7= []\n",
    "raw_7=[]\n",
    "raw_sounds7,raw7=extract_features1(onlyfiles7,r\"kj\",7)\n",
    "print(raw_sounds7.shape)\n",
    "print(raw7.shape)"
   ]
  },
  {
   "cell_type": "code",
   "execution_count": 12,
   "metadata": {},
   "outputs": [
    {
     "name": "stdout",
     "output_type": "stream",
     "text": [
      "(40, 60, 7)\n",
      "(40, 60, 7)\n"
     ]
    }
   ],
   "source": [
    "onlyfiles8 = [f for f in listdir(r\"C:\\internship\\meeting-folds\\kn\") if isfile(join(r\"C:\\internship\\meeting-folds\\kn\", f))]\n",
    "raw_sounds8= []\n",
    "raw_8=[]\n",
    "raw_sounds8,raw8=extract_features1(onlyfiles1,r\"kn\",8)\n",
    "print(raw_sounds8.shape)\n",
    "print(raw8.shape)"
   ]
  },
  {
   "cell_type": "code",
   "execution_count": 13,
   "metadata": {},
   "outputs": [
    {
     "name": "stdout",
     "output_type": "stream",
     "text": [
      "(40, 60, 7)\n",
      "(40, 60, 7)\n"
     ]
    }
   ],
   "source": [
    "onlyfiles9 = [f for f in listdir(r\"C:\\internship\\meeting-folds\\kt\") if isfile(join(r\"C:\\internship\\meeting-folds\\kt\", f))]\n",
    "raw_sounds9= []\n",
    "raw_9=[]\n",
    "raw_sounds9,raw9=extract_features1(onlyfiles9,r\"kt\",9)\n",
    "print(raw_sounds9.shape)\n",
    "print(raw9.shape)\n",
    "\n"
   ]
  },
  {
   "cell_type": "code",
   "execution_count": 14,
   "metadata": {},
   "outputs": [
    {
     "name": "stdout",
     "output_type": "stream",
     "text": [
      "(40, 60, 7)\n",
      "(40, 60, 7)\n"
     ]
    }
   ],
   "source": [
    "onlyfiles10 = [f for f in listdir(r\"C:\\internship\\meeting-folds\\la\") if isfile(join(r\"C:\\internship\\meeting-folds\\la\", f))]\n",
    "raw_sounds10= []\n",
    "raw_10=[]\n",
    "raw_sounds10,raw10=extract_features1(onlyfiles10,r\"la\",10)\n",
    "print(raw_sounds10.shape)\n",
    "print(raw10.shape)\n"
   ]
  },
  {
   "cell_type": "code",
   "execution_count": 15,
   "metadata": {},
   "outputs": [
    {
     "name": "stdout",
     "output_type": "stream",
     "text": [
      "(40, 60, 7)\n",
      "(40, 60, 7)\n"
     ]
    }
   ],
   "source": [
    "onlyfiles11 = [f for f in listdir(r\"C:\\internship\\meeting-folds\\pr\") if isfile(join(r\"C:\\internship\\meeting-folds\\pr\", f))]\n",
    "raw_sounds11= []\n",
    "raw_11=[]\n",
    "raw_sounds11,raw11=extract_features1(onlyfiles11,r\"pr\",11)\n",
    "print(raw_sounds11.shape)\n",
    "print(raw11.shape)"
   ]
  },
  {
   "cell_type": "code",
   "execution_count": 16,
   "metadata": {},
   "outputs": [
    {
     "name": "stdout",
     "output_type": "stream",
     "text": [
      "(40, 60, 7)\n",
      "(40, 60, 7)\n"
     ]
    }
   ],
   "source": [
    "onlyfiles12 = [f for f in listdir(\"C:\\internship\\meeting-folds\\pw\") if isfile(join(\"C:\\internship\\meeting-folds\\pw\", f))]\n",
    "raw_sounds12= []\n",
    "raw_12=[]\n",
    "raw_sounds12,raw12=extract_features1(onlyfiles12,\"pw\",12)\n",
    "print(raw_sounds12.shape)\n",
    "print(raw12.shape)"
   ]
  },
  {
   "cell_type": "code",
   "execution_count": 17,
   "metadata": {},
   "outputs": [
    {
     "name": "stdout",
     "output_type": "stream",
     "text": [
      "(96, 60, 7)\n",
      "(96, 60, 7)\n",
      "(96, 60, 7)\n",
      "(96, 60, 7)\n",
      "(96, 60, 7)\n"
     ]
    }
   ],
   "source": [
    "fold1=np.array(fold1)\n",
    "print(fold1.shape)\n",
    "fold2=np.array(fold2)\n",
    "print(fold2.shape)\n",
    "fold3=np.array(fold3)\n",
    "print(fold3.shape)\n",
    "fold4=np.array(fold4)\n",
    "print(fold4.shape)\n",
    "fold5=np.array(fold5)\n",
    "print(fold5.shape)"
   ]
  },
  {
   "cell_type": "code",
   "execution_count": 18,
   "metadata": {},
   "outputs": [
    {
     "name": "stdout",
     "output_type": "stream",
     "text": [
      "96\n",
      "96\n",
      "96\n",
      "96\n",
      "96\n"
     ]
    }
   ],
   "source": [
    "print(len(dataclass1))\n",
    "print(len(dataclass2))\n",
    "print(len(dataclass3))\n",
    "print(len(dataclass4))\n",
    "print(len(dataclass5))"
   ]
  },
  {
   "cell_type": "code",
   "execution_count": 19,
   "metadata": {},
   "outputs": [
    {
     "name": "stdout",
     "output_type": "stream",
     "text": [
      "(384, 60, 7)\n",
      "(384, 60, 7, 1)\n",
      "(384,)\n"
     ]
    }
   ],
   "source": [
    "train=[]\n",
    "train_x=np.vstack([fold2,fold3,fold4,fold5])\n",
    "train_x=np.array(train_x)\n",
    "train_y=dataclass2+dataclass3+dataclass4+dataclass5\n",
    "print (train_x.shape)\n",
    "train_xx=np.expand_dims((train_x),axis=3)\n",
    "print(train_xx.shape)\n",
    "train_y=np.array(train_y)\n",
    "print (train_y.shape)\n"
   ]
  },
  {
   "cell_type": "code",
   "execution_count": 20,
   "metadata": {},
   "outputs": [
    {
     "name": "stdout",
     "output_type": "stream",
     "text": [
      "(384, 12)\n"
     ]
    }
   ],
   "source": [
    "labelencoder_train=LabelEncoder()\n",
    "labelencoder_train.fit(train_y)\n",
    "data_cl=labelencoder_train.transform(train_y)\n",
    "dummy_class_train=np_utils.to_categorical(data_cl)\n",
    "print (dummy_class_train.shape)\n"
   ]
  },
  {
   "cell_type": "code",
   "execution_count": 21,
   "metadata": {},
   "outputs": [
    {
     "name": "stdout",
     "output_type": "stream",
     "text": [
      "(96, 60, 7, 1)\n"
     ]
    }
   ],
   "source": [
    "foldi=np.expand_dims((fold1),axis=3)\n",
    "print(foldi.shape)"
   ]
  },
  {
   "cell_type": "code",
   "execution_count": 22,
   "metadata": {},
   "outputs": [
    {
     "name": "stdout",
     "output_type": "stream",
     "text": [
      "(96, 12)\n"
     ]
    }
   ],
   "source": [
    "labelencoder_test=LabelEncoder()\n",
    "labelencoder_test.fit(dataclass1)\n",
    "data_cl=labelencoder_test.transform(dataclass1)\n",
    "dummy_class_test=np_utils.to_categorical(data_cl)\n",
    "print (dummy_class_test.shape)\n"
   ]
  },
  {
   "cell_type": "code",
   "execution_count": 23,
   "metadata": {
    "collapsed": true
   },
   "outputs": [],
   "source": [
    "model=Sequential()\n",
    "model.add(Conv2D(80, kernel_size=(5,5),activation='relu',input_shape=(60,7,1)))\n",
    "model.add(MaxPooling2D(pool_size=(2,2)))\n",
    "#model.add(Conv2D(80, kernel_size=(1,1),activation='relu'))\n",
    "#model.add(MaxPooling2D(pool_size=(1,1)))\n",
    "#model.add(Conv2D(80, kernel_size=(1,1),activation='relu'))\n",
    "#model.add(MaxPooling2D(pool_size=(1,1)))\n",
    "#model.add(Conv2D(80, kernel_size=(1,1),activation='relu'))\n",
    "#model.add(MaxPooling2D(pool_size=(1,1)))\n",
    "\n",
    "\n",
    "model.add(Reshape((80,-1)))\n",
    "model.add(LSTM(80,activation='tanh'))\n",
    "#model.add(Reshape((80, -1)))\n",
    "#model.add(LSTM(80,activation='tanh'))\n",
    "#model.add(Reshape((80, -1)))\n",
    "#model.add(LSTM(80,activation='tanh'))\n",
    "model.add(Reshape((1, -1)))\n",
    "\n",
    "model.add(Flatten())\n",
    "model.add(Dense(500,activation='relu'))\n",
    "model.add(Dense(500,activation='relu'))\n",
    "model.add(Dense(12,activation='sigmoid'))"
   ]
  },
  {
   "cell_type": "code",
   "execution_count": 24,
   "metadata": {
    "collapsed": true
   },
   "outputs": [],
   "source": [
    "batch_size = 1\n",
    "epochs = 10\n",
    "model.compile(optimizer='rmsprop', loss='categorical_crossentropy', metrics=['accuracy'])\n"
   ]
  },
  {
   "cell_type": "code",
   "execution_count": 25,
   "metadata": {},
   "outputs": [
    {
     "name": "stdout",
     "output_type": "stream",
     "text": [
      "Epoch 1/10\n",
      "384/384 [==============================] - 22s 58ms/step - loss: 2.4469 - acc: 0.0859\n",
      "Epoch 2/10\n",
      "384/384 [==============================] - 22s 56ms/step - loss: 2.1427 - acc: 0.1536\n",
      "Epoch 3/10\n",
      "384/384 [==============================] - 21s 56ms/step - loss: 1.9799 - acc: 0.2526\n",
      "Epoch 4/10\n",
      "384/384 [==============================] - 21s 56ms/step - loss: 1.8176 - acc: 0.3229\n",
      "Epoch 5/10\n",
      "384/384 [==============================] - 22s 57ms/step - loss: 1.7032 - acc: 0.3542\n",
      "Epoch 6/10\n",
      "384/384 [==============================] - 22s 58ms/step - loss: 1.6175 - acc: 0.4036\n",
      "Epoch 7/10\n",
      "384/384 [==============================] - 22s 58ms/step - loss: 1.8029 - acc: 0.4010\n",
      "Epoch 8/10\n",
      "384/384 [==============================] - 22s 57ms/step - loss: 1.4654 - acc: 0.4219\n",
      "Epoch 9/10\n",
      "384/384 [==============================] - 21s 56ms/step - loss: 1.4929 - acc: 0.4271\n",
      "Epoch 10/10\n",
      "384/384 [==============================] - 22s 58ms/step - loss: 1.3986 - acc: 0.4896\n"
     ]
    }
   ],
   "source": [
    "history = model.fit(train_xx, dummy_class_train, batch_size=batch_size, epochs=epochs, verbose=1)#, validation_data=(fold5,dummy_class_test))"
   ]
  },
  {
   "cell_type": "code",
   "execution_count": 26,
   "metadata": {},
   "outputs": [
    {
     "name": "stdout",
     "output_type": "stream",
     "text": [
      "[1.4980827569961548, 0.46875]\n"
     ]
    }
   ],
   "source": [
    "print(model.evaluate(foldi,dummy_class_test, verbose=0))"
   ]
  },
  {
   "cell_type": "code",
   "execution_count": null,
   "metadata": {
    "collapsed": true
   },
   "outputs": [],
   "source": []
  }
 ],
 "metadata": {
  "kernelspec": {
   "display_name": "Python 3",
   "language": "python",
   "name": "python3"
  },
  "language_info": {
   "codemirror_mode": {
    "name": "ipython",
    "version": 3
   },
   "file_extension": ".py",
   "mimetype": "text/x-python",
   "name": "python",
   "nbconvert_exporter": "python",
   "pygments_lexer": "ipython3",
   "version": "3.6.3"
  }
 },
 "nbformat": 4,
 "nbformat_minor": 2
}
